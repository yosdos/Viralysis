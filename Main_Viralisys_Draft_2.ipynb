{
 "cells": [
  {
   "cell_type": "code",
   "execution_count": 4,
   "metadata": {
    "collapsed": true
   },
   "outputs": [
    {
     "name": "stdout",
     "output_type": "stream",
     "text": [
      "Note: Unnecessary use of -X or --request, POST is already inferred.\n",
      "*   Trying 18.235.184.149...\n",
      "* TCP_NODELAY set\n",
      "* Connected to 1asdd2nwvf.execute-api.us-east-1.amazonaws.com (18.235.184.149) port 443 (#0)\n",
      "* ALPN, offering h2\n",
      "* ALPN, offering http/1.1\n",
      "* successfully set certificate verify locations:\n",
      "*   CAfile: /etc/ssl/certs/ca-certificates.crt\n",
      "  CApath: /etc/ssl/certs\n",
      "* TLSv1.3 (OUT), TLS handshake, Client hello (1):\n",
      "* TLSv1.3 (IN), TLS handshake, Server hello (2):\n",
      "* TLSv1.2 (IN), TLS handshake, Certificate (11):\n",
      "* TLSv1.2 (IN), TLS handshake, Server key exchange (12):\n",
      "* TLSv1.2 (IN), TLS handshake, Server finished (14):\n",
      "* TLSv1.2 (OUT), TLS handshake, Client key exchange (16):\n",
      "* TLSv1.2 (OUT), TLS change cipher, Client hello (1):\n",
      "* TLSv1.2 (OUT), TLS handshake, Finished (20):\n",
      "* TLSv1.2 (IN), TLS handshake, Finished (20):\n",
      "* SSL connection using TLSv1.2 / ECDHE-RSA-AES128-GCM-SHA256\n",
      "* ALPN, server accepted to use h2\n",
      "* Server certificate:\n",
      "*  subject: CN=*.execute-api.us-east-1.amazonaws.com\n",
      "*  start date: Sep 17 00:00:00 2019 GMT\n",
      "*  expire date: Oct 17 12:00:00 2020 GMT\n",
      "*  subjectAltName: host \"1asdd2nwvf.execute-api.us-east-1.amazonaws.com\" matched cert's \"*.execute-api.us-east-1.amazonaws.com\"\n",
      "*  issuer: C=US; O=Amazon; OU=Server CA 1B; CN=Amazon\n",
      "*  SSL certificate verify ok.\n",
      "* Using HTTP2, server supports multi-use\n",
      "* Connection state changed (HTTP/2 confirmed)\n",
      "* Copying HTTP/2 data in stream buffer to connection buffer after upgrade: len=0\n",
      "* Using Stream ID: 1 (easy handle 0x55b677c28580)\n",
      "> POST /CommunityAndViralityAnalysis/services HTTP/2\n",
      "> Host: 1asdd2nwvf.execute-api.us-east-1.amazonaws.com\n",
      "> User-Agent: curl/7.58.0\n",
      "> Accept: */*\n",
      "> Content-Length: 90\n",
      "> Content-Type: application/x-www-form-urlencoded\n",
      "> \n",
      "* Connection state changed (MAX_CONCURRENT_STREAMS updated)!\n",
      "* We are completely uploaded and fine\n",
      "< HTTP/2 200 \n",
      "< date: Sun, 01 Mar 2020 13:40:35 GMT\n",
      "< content-type: application/json\n",
      "< content-length: 92\n",
      "< x-amzn-requestid: 08b07a66-6065-4670-8963-50518da0c4d8\n",
      "< x-amz-apigw-id: Ito1AGIGoAMFr9A=\n",
      "< x-amzn-trace-id: Root=1-5e5bbb53-9b2fa150fe4e95ce8d8a6728;Sampled=0\n",
      "< \n",
      "* Connection #0 to host 1asdd2nwvf.execute-api.us-east-1.amazonaws.com left intact\n",
      "{\"startDATE\": \"10/2/2020\", \"endDATE\": \"28/2/2020\", \"Username\": \"YosDos\", \"password\": \"1234\"}"
     ]
    }
   ],
   "source": [
    "!curl -v -X POST \\\n",
    "  'https://1asdd2nwvf.execute-api.us-east-1.amazonaws.com/CommunityAndViralityAnalysis/services' \\\n",
    "  -d '{ \"startDATE\": \"02/10/2020\",\"endDATE\": \"02/28/2020\",\"Username\": \"YosDos\",\"password\": \"1234\"}'"
   ]
  },
  {
   "cell_type": "code",
   "execution_count": 8,
   "metadata": {},
   "outputs": [],
   "source": [
    "import json\n",
    "import boto3\n",
    "from boto3.dynamodb.conditions import Key\n",
    "\n",
    "NumberOfEnterance = boto3.resource('dynamodb').Table('NumberOfEnterance')"
   ]
  },
  {
   "cell_type": "code",
   "execution_count": 9,
   "metadata": {
    "scrolled": true
   },
   "outputs": [
    {
     "data": {
      "text/plain": [
       "{'Items': [{'Date': '02/20/2020', 'Num of enterance': Decimal('3')},\n",
       "  {'Date': '02/26/2020', 'Num of enterance': Decimal('27')},\n",
       "  {'Date': '02/12/2020', 'Num of enterance': Decimal('5')},\n",
       "  {'Date': '01/21/2020', 'Num of enterance': Decimal('6')},\n",
       "  {'Date': '02/09/2020', 'Num of enterance': Decimal('17')},\n",
       "  {'Date': '02/14/2020', 'Num of enterance': Decimal('8')},\n",
       "  {'Date': '02/24/2020', 'Num of enterance': Decimal('3')},\n",
       "  {'Date': '01/28/2020', 'Num of enterance': Decimal('5')},\n",
       "  {'Date': '02/06/2020', 'Num of enterance': Decimal('3')},\n",
       "  {'Date': '01/27/2020', 'Num of enterance': Decimal('4')},\n",
       "  {'Date': '01/23/2020', 'Num of enterance': Decimal('59')},\n",
       "  {'Date': '01/20/2020', 'Num of enterance': Decimal('3')},\n",
       "  {'Date': '02/07/2020', 'Num of enterance': Decimal('3')},\n",
       "  {'Date': '02/04/2020', 'Num of enterance': Decimal('1')},\n",
       "  {'Date': '01/26/2020', 'Num of enterance': Decimal('2')},\n",
       "  {'Date': '01/08/2020', 'Num of enterance': Decimal('12')},\n",
       "  {'Date': '01/19/2020', 'Num of enterance': Decimal('6')},\n",
       "  {'Date': '01/15/2020', 'Num of enterance': Decimal('20')},\n",
       "  {'Date': '01/14/2020', 'Num of enterance': Decimal('3')},\n",
       "  {'Date': '02/21/2020', 'Num of enterance': Decimal('18')},\n",
       "  {'Date': '02/27/2020', 'Num of enterance': Decimal('3')},\n",
       "  {'Date': '02/05/2020', 'Num of enterance': Decimal('7')},\n",
       "  {'Date': '02/16/2020', 'Num of enterance': Decimal('5')},\n",
       "  {'Date': '01/31/2020', 'Num of enterance': Decimal('4')},\n",
       "  {'Date': '02/11/2020', 'Num of enterance': Decimal('3')},\n",
       "  {'Date': '01/09/2020', 'Num of enterance': Decimal('4')},\n",
       "  {'Date': '01/22/2020', 'Num of enterance': Decimal('11')},\n",
       "  {'Date': '02/10/2020', 'Num of enterance': Decimal('4')},\n",
       "  {'Date': '02/03/2020', 'Num of enterance': Decimal('3')},\n",
       "  {'Date': '01/29/2020', 'Num of enterance': Decimal('2')},\n",
       "  {'Date': '01/17/2020', 'Num of enterance': Decimal('3')},\n",
       "  {'Date': '02/13/2020', 'Num of enterance': Decimal('9')},\n",
       "  {'Date': '01/11/2020', 'Num of enterance': Decimal('22')},\n",
       "  {'Date': '02/23/2020', 'Num of enterance': Decimal('1')},\n",
       "  {'Date': '01/16/2020', 'Num of enterance': Decimal('3')},\n",
       "  {'Date': '01/25/2020', 'Num of enterance': Decimal('4')},\n",
       "  {'Date': '01/24/2020', 'Num of enterance': Decimal('1')},\n",
       "  {'Date': '02/15/2020', 'Num of enterance': Decimal('3')},\n",
       "  {'Date': '02/19/2020', 'Num of enterance': Decimal('1')},\n",
       "  {'Date': '01/18/2020', 'Num of enterance': Decimal('11')},\n",
       "  {'Date': '02/25/2020', 'Num of enterance': Decimal('8')},\n",
       "  {'Date': '02/18/2020', 'Num of enterance': Decimal('3')},\n",
       "  {'Date': '01/13/2020', 'Num of enterance': Decimal('2')},\n",
       "  {'Date': '02/08/2020', 'Num of enterance': Decimal('5')},\n",
       "  {'Date': '01/10/2020', 'Num of enterance': Decimal('5')},\n",
       "  {'Date': '03/01/2020', 'Num of enterance': Decimal('10')},\n",
       "  {'Date': '01/12/2020', 'Num of enterance': Decimal('4')},\n",
       "  {'Date': '02/22/2020', 'Num of enterance': Decimal('3')},\n",
       "  {'Date': '01/30/2020', 'Num of enterance': Decimal('4')},\n",
       "  {'Date': '02/02/2020', 'Num of enterance': Decimal('1')}],\n",
       " 'Count': 50,\n",
       " 'ScannedCount': 50,\n",
       " 'ResponseMetadata': {'RequestId': '0G2AP9FDG632JTF3LJG4KHOQ67VV4KQNSO5AEMVJF66Q9ASUAAJG',\n",
       "  'HTTPStatusCode': 200,\n",
       "  'HTTPHeaders': {'server': 'Server',\n",
       "   'date': 'Sun, 01 Mar 2020 13:43:18 GMT',\n",
       "   'content-type': 'application/x-amz-json-1.0',\n",
       "   'content-length': '2900',\n",
       "   'connection': 'keep-alive',\n",
       "   'x-amzn-requestid': '0G2AP9FDG632JTF3LJG4KHOQ67VV4KQNSO5AEMVJF66Q9ASUAAJG',\n",
       "   'x-amz-crc32': '2889361897'},\n",
       "  'RetryAttempts': 0}}"
      ]
     },
     "execution_count": 9,
     "metadata": {},
     "output_type": "execute_result"
    }
   ],
   "source": [
    "NumberOfEnterance.scan()"
   ]
  },
  {
   "cell_type": "code",
   "execution_count": 51,
   "metadata": {},
   "outputs": [
    {
     "ename": "ClientError",
     "evalue": "An error occurred (ValidationException) when calling the Query operation: Query key condition not supported",
     "output_type": "error",
     "traceback": [
      "\u001b[0;31m---------------------------------------------------------------------------\u001b[0m",
      "\u001b[0;31mClientError\u001b[0m                               Traceback (most recent call last)",
      "\u001b[0;32m<ipython-input-51-a73e716c115a>\u001b[0m in \u001b[0;36m<module>\u001b[0;34m\u001b[0m\n\u001b[1;32m      1\u001b[0m \u001b[0;32mfrom\u001b[0m \u001b[0mboto3\u001b[0m\u001b[0;34m.\u001b[0m\u001b[0mdynamodb\u001b[0m\u001b[0;34m.\u001b[0m\u001b[0mconditions\u001b[0m \u001b[0;32mimport\u001b[0m \u001b[0mKey\u001b[0m\u001b[0;34m\u001b[0m\u001b[0;34m\u001b[0m\u001b[0m\n\u001b[0;32m----> 2\u001b[0;31m \u001b[0mNumberOfEnterance\u001b[0m\u001b[0;34m.\u001b[0m\u001b[0mquery\u001b[0m\u001b[0;34m(\u001b[0m\u001b[0mKeyConditionExpression\u001b[0m\u001b[0;34m=\u001b[0m\u001b[0mKey\u001b[0m\u001b[0;34m(\u001b[0m\u001b[0;34m'Date'\u001b[0m\u001b[0;34m)\u001b[0m\u001b[0;34m.\u001b[0m\u001b[0mbegins_with\u001b[0m\u001b[0;34m(\u001b[0m\u001b[0;34m'02'\u001b[0m\u001b[0;34m)\u001b[0m\u001b[0;34m)\u001b[0m\u001b[0;34m\u001b[0m\u001b[0;34m\u001b[0m\u001b[0m\n\u001b[0m",
      "\u001b[0;32m~/miniconda3/lib/python3.7/site-packages/boto3/resources/factory.py\u001b[0m in \u001b[0;36mdo_action\u001b[0;34m(self, *args, **kwargs)\u001b[0m\n\u001b[1;32m    518\u001b[0m             \u001b[0;31m# instance via ``self``.\u001b[0m\u001b[0;34m\u001b[0m\u001b[0;34m\u001b[0m\u001b[0;34m\u001b[0m\u001b[0m\n\u001b[1;32m    519\u001b[0m             \u001b[0;32mdef\u001b[0m \u001b[0mdo_action\u001b[0m\u001b[0;34m(\u001b[0m\u001b[0mself\u001b[0m\u001b[0;34m,\u001b[0m \u001b[0;34m*\u001b[0m\u001b[0margs\u001b[0m\u001b[0;34m,\u001b[0m \u001b[0;34m**\u001b[0m\u001b[0mkwargs\u001b[0m\u001b[0;34m)\u001b[0m\u001b[0;34m:\u001b[0m\u001b[0;34m\u001b[0m\u001b[0;34m\u001b[0m\u001b[0m\n\u001b[0;32m--> 520\u001b[0;31m                 \u001b[0mresponse\u001b[0m \u001b[0;34m=\u001b[0m \u001b[0maction\u001b[0m\u001b[0;34m(\u001b[0m\u001b[0mself\u001b[0m\u001b[0;34m,\u001b[0m \u001b[0;34m*\u001b[0m\u001b[0margs\u001b[0m\u001b[0;34m,\u001b[0m \u001b[0;34m**\u001b[0m\u001b[0mkwargs\u001b[0m\u001b[0;34m)\u001b[0m\u001b[0;34m\u001b[0m\u001b[0;34m\u001b[0m\u001b[0m\n\u001b[0m\u001b[1;32m    521\u001b[0m \u001b[0;34m\u001b[0m\u001b[0m\n\u001b[1;32m    522\u001b[0m                 \u001b[0;32mif\u001b[0m \u001b[0mhasattr\u001b[0m\u001b[0;34m(\u001b[0m\u001b[0mself\u001b[0m\u001b[0;34m,\u001b[0m \u001b[0;34m'load'\u001b[0m\u001b[0;34m)\u001b[0m\u001b[0;34m:\u001b[0m\u001b[0;34m\u001b[0m\u001b[0;34m\u001b[0m\u001b[0m\n",
      "\u001b[0;32m~/miniconda3/lib/python3.7/site-packages/boto3/resources/action.py\u001b[0m in \u001b[0;36m__call__\u001b[0;34m(self, parent, *args, **kwargs)\u001b[0m\n\u001b[1;32m     81\u001b[0m                     operation_name, params)\n\u001b[1;32m     82\u001b[0m \u001b[0;34m\u001b[0m\u001b[0m\n\u001b[0;32m---> 83\u001b[0;31m         \u001b[0mresponse\u001b[0m \u001b[0;34m=\u001b[0m \u001b[0mgetattr\u001b[0m\u001b[0;34m(\u001b[0m\u001b[0mparent\u001b[0m\u001b[0;34m.\u001b[0m\u001b[0mmeta\u001b[0m\u001b[0;34m.\u001b[0m\u001b[0mclient\u001b[0m\u001b[0;34m,\u001b[0m \u001b[0moperation_name\u001b[0m\u001b[0;34m)\u001b[0m\u001b[0;34m(\u001b[0m\u001b[0;34m**\u001b[0m\u001b[0mparams\u001b[0m\u001b[0;34m)\u001b[0m\u001b[0;34m\u001b[0m\u001b[0;34m\u001b[0m\u001b[0m\n\u001b[0m\u001b[1;32m     84\u001b[0m \u001b[0;34m\u001b[0m\u001b[0m\n\u001b[1;32m     85\u001b[0m         \u001b[0mlogger\u001b[0m\u001b[0;34m.\u001b[0m\u001b[0mdebug\u001b[0m\u001b[0;34m(\u001b[0m\u001b[0;34m'Response: %r'\u001b[0m\u001b[0;34m,\u001b[0m \u001b[0mresponse\u001b[0m\u001b[0;34m)\u001b[0m\u001b[0;34m\u001b[0m\u001b[0;34m\u001b[0m\u001b[0m\n",
      "\u001b[0;32m~/miniconda3/lib/python3.7/site-packages/botocore/client.py\u001b[0m in \u001b[0;36m_api_call\u001b[0;34m(self, *args, **kwargs)\u001b[0m\n\u001b[1;32m    314\u001b[0m                     \"%s() only accepts keyword arguments.\" % py_operation_name)\n\u001b[1;32m    315\u001b[0m             \u001b[0;31m# The \"self\" in this scope is referring to the BaseClient.\u001b[0m\u001b[0;34m\u001b[0m\u001b[0;34m\u001b[0m\u001b[0;34m\u001b[0m\u001b[0m\n\u001b[0;32m--> 316\u001b[0;31m             \u001b[0;32mreturn\u001b[0m \u001b[0mself\u001b[0m\u001b[0;34m.\u001b[0m\u001b[0m_make_api_call\u001b[0m\u001b[0;34m(\u001b[0m\u001b[0moperation_name\u001b[0m\u001b[0;34m,\u001b[0m \u001b[0mkwargs\u001b[0m\u001b[0;34m)\u001b[0m\u001b[0;34m\u001b[0m\u001b[0;34m\u001b[0m\u001b[0m\n\u001b[0m\u001b[1;32m    317\u001b[0m \u001b[0;34m\u001b[0m\u001b[0m\n\u001b[1;32m    318\u001b[0m         \u001b[0m_api_call\u001b[0m\u001b[0;34m.\u001b[0m\u001b[0m__name__\u001b[0m \u001b[0;34m=\u001b[0m \u001b[0mstr\u001b[0m\u001b[0;34m(\u001b[0m\u001b[0mpy_operation_name\u001b[0m\u001b[0;34m)\u001b[0m\u001b[0;34m\u001b[0m\u001b[0;34m\u001b[0m\u001b[0m\n",
      "\u001b[0;32m~/miniconda3/lib/python3.7/site-packages/botocore/client.py\u001b[0m in \u001b[0;36m_make_api_call\u001b[0;34m(self, operation_name, api_params)\u001b[0m\n\u001b[1;32m    624\u001b[0m             \u001b[0merror_code\u001b[0m \u001b[0;34m=\u001b[0m \u001b[0mparsed_response\u001b[0m\u001b[0;34m.\u001b[0m\u001b[0mget\u001b[0m\u001b[0;34m(\u001b[0m\u001b[0;34m\"Error\"\u001b[0m\u001b[0;34m,\u001b[0m \u001b[0;34m{\u001b[0m\u001b[0;34m}\u001b[0m\u001b[0;34m)\u001b[0m\u001b[0;34m.\u001b[0m\u001b[0mget\u001b[0m\u001b[0;34m(\u001b[0m\u001b[0;34m\"Code\"\u001b[0m\u001b[0;34m)\u001b[0m\u001b[0;34m\u001b[0m\u001b[0;34m\u001b[0m\u001b[0m\n\u001b[1;32m    625\u001b[0m             \u001b[0merror_class\u001b[0m \u001b[0;34m=\u001b[0m \u001b[0mself\u001b[0m\u001b[0;34m.\u001b[0m\u001b[0mexceptions\u001b[0m\u001b[0;34m.\u001b[0m\u001b[0mfrom_code\u001b[0m\u001b[0;34m(\u001b[0m\u001b[0merror_code\u001b[0m\u001b[0;34m)\u001b[0m\u001b[0;34m\u001b[0m\u001b[0;34m\u001b[0m\u001b[0m\n\u001b[0;32m--> 626\u001b[0;31m             \u001b[0;32mraise\u001b[0m \u001b[0merror_class\u001b[0m\u001b[0;34m(\u001b[0m\u001b[0mparsed_response\u001b[0m\u001b[0;34m,\u001b[0m \u001b[0moperation_name\u001b[0m\u001b[0;34m)\u001b[0m\u001b[0;34m\u001b[0m\u001b[0;34m\u001b[0m\u001b[0m\n\u001b[0m\u001b[1;32m    627\u001b[0m         \u001b[0;32melse\u001b[0m\u001b[0;34m:\u001b[0m\u001b[0;34m\u001b[0m\u001b[0;34m\u001b[0m\u001b[0m\n\u001b[1;32m    628\u001b[0m             \u001b[0;32mreturn\u001b[0m \u001b[0mparsed_response\u001b[0m\u001b[0;34m\u001b[0m\u001b[0;34m\u001b[0m\u001b[0m\n",
      "\u001b[0;31mClientError\u001b[0m: An error occurred (ValidationException) when calling the Query operation: Query key condition not supported"
     ]
    }
   ],
   "source": [
    "from boto3.dynamodb.conditions import Key\n",
    "NumberOfEnterance.query(KeyConditionExpression=Key('Date').begins_with('02'))"
   ]
  },
  {
   "cell_type": "code",
   "execution_count": null,
   "metadata": {},
   "outputs": [],
   "source": []
  }
 ],
 "metadata": {
  "kernelspec": {
   "display_name": "Python 3",
   "language": "python",
   "name": "python3"
  },
  "language_info": {
   "codemirror_mode": {
    "name": "ipython",
    "version": 3
   },
   "file_extension": ".py",
   "mimetype": "text/x-python",
   "name": "python",
   "nbconvert_exporter": "python",
   "pygments_lexer": "ipython3",
   "version": "3.7.4"
  }
 },
 "nbformat": 4,
 "nbformat_minor": 4
}
