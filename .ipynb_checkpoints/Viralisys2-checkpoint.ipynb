{
 "cells": [
  {
   "cell_type": "code",
   "execution_count": 1,
   "metadata": {},
   "outputs": [
    {
     "name": "stdout",
     "output_type": "stream",
     "text": [
      "{\r\n",
      "    \"TableNames\": [\r\n",
      "        \"AllDataViralysis\", \r\n",
      "        \"NumberOfEnterance\", \r\n",
      "        \"viralysisTable1\"\r\n",
      "    ]\r\n",
      "}\r\n"
     ]
    }
   ],
   "source": [
    "!aws dynamodb list-tables"
   ]
  },
  {
   "cell_type": "code",
   "execution_count": 17,
   "metadata": {},
   "outputs": [],
   "source": [
    "import pandas as pd\n",
    "from datetime import datetime\n",
    "import boto3\n",
    "import json\n",
    "\n",
    "NameOFTable = 'NumberOfEnterance'\n",
    "dynamodb = boto3.resource('dynamodb')\n",
    "Feed_table = dynamodb.Table('viralysisTable1')\n",
    "Data_table = dynamodb.Table('AllDataViralysis')\n",
    "Enterance_Table = dynamodb.Table(NameOFTable)\n",
    "Feed_tableS = Feed_table.scan()\n",
    "Feed_tableS.get('Items')\n",
    "Pandas_Feed_table = pd.DataFrame.from_dict(Feed_tableS.get('Items'))"
   ]
  },
  {
   "cell_type": "code",
   "execution_count": 52,
   "metadata": {},
   "outputs": [],
   "source": [
    "Pandas_Data_table =  pd.DataFrame.from_dict(Data_table.scan().get('Items'))"
   ]
  },
  {
   "cell_type": "code",
   "execution_count": 1,
   "metadata": {
    "collapsed": true
   },
   "outputs": [
    {
     "ename": "NameError",
     "evalue": "name 'Pandas_Data_table' is not defined",
     "output_type": "error",
     "traceback": [
      "\u001b[0;31m---------------------------------------------------------------------------\u001b[0m",
      "\u001b[0;31mNameError\u001b[0m                                 Traceback (most recent call last)",
      "\u001b[0;32m<ipython-input-1-ba06d5273d23>\u001b[0m in \u001b[0;36m<module>\u001b[0;34m\u001b[0m\n\u001b[0;32m----> 1\u001b[0;31m \u001b[0mPandas_Data_table\u001b[0m\u001b[0;34m\u001b[0m\u001b[0;34m\u001b[0m\u001b[0m\n\u001b[0m",
      "\u001b[0;31mNameError\u001b[0m: name 'Pandas_Data_table' is not defined"
     ]
    }
   ],
   "source": [
    "Pandas_Data_table"
   ]
  },
  {
   "cell_type": "code",
   "execution_count": 19,
   "metadata": {},
   "outputs": [],
   "source": [
    "Pandas_Feed_table['dt_object'] = [datetime.fromtimestamp(float(i)).strftime(\"%m/%d/%Y\") \n",
    "                                      for i in Pandas_Feed_table.time]"
   ]
  },
  {
   "cell_type": "code",
   "execution_count": 70,
   "metadata": {},
   "outputs": [],
   "source": [
    "Pandas_En_table = pd.DataFrame.from_dict(Enterance_Table.scan().get('Items'))"
   ]
  },
  {
   "cell_type": "code",
   "execution_count": 23,
   "metadata": {
    "scrolled": false
   },
   "outputs": [
    {
     "data": {
      "text/plain": [
       "\"{'ViralysisId': '116a843b-fea0-4670-b79e-a29c1be2b133', 'vai': '', 'href': 'http://bioinformatics-israel.com/', 'ViralysisClientId': 'YosDos'}\""
      ]
     },
     "execution_count": 23,
     "metadata": {},
     "output_type": "execute_result"
    }
   ],
   "source": [
    "Pandas_Feed_table['body-json'][0]"
   ]
  },
  {
   "cell_type": "code",
   "execution_count": 48,
   "metadata": {},
   "outputs": [],
   "source": [
    "Pandas_Feed_table['Client'] = [json.loads(s.replace(\"'\", \"\\\"\"))['ViralysisClientId'] \n",
    "                               for s in Pandas_Feed_table['body-json']]"
   ]
  },
  {
   "cell_type": "code",
   "execution_count": 49,
   "metadata": {},
   "outputs": [
    {
     "data": {
      "text/html": [
       "<div>\n",
       "<style scoped>\n",
       "    .dataframe tbody tr th:only-of-type {\n",
       "        vertical-align: middle;\n",
       "    }\n",
       "\n",
       "    .dataframe tbody tr th {\n",
       "        vertical-align: top;\n",
       "    }\n",
       "\n",
       "    .dataframe thead th {\n",
       "        text-align: right;\n",
       "    }\n",
       "</style>\n",
       "<table border=\"1\" class=\"dataframe\">\n",
       "  <thead>\n",
       "    <tr style=\"text-align: right;\">\n",
       "      <th></th>\n",
       "      <th>body-json</th>\n",
       "      <th>idHttp</th>\n",
       "      <th>cookie</th>\n",
       "      <th>context</th>\n",
       "      <th>params</th>\n",
       "      <th>time</th>\n",
       "      <th>rnd6</th>\n",
       "      <th>Id</th>\n",
       "      <th>stage-variables</th>\n",
       "      <th>dt_object</th>\n",
       "      <th>Client</th>\n",
       "    </tr>\n",
       "  </thead>\n",
       "  <tbody>\n",
       "    <tr>\n",
       "      <th>0</th>\n",
       "      <td>{'ViralysisId': '116a843b-fea0-4670-b79e-a29c1...</td>\n",
       "      <td>6691eddd-d45b-4795-a38c-6b32b5c08232xdlfuZ</td>\n",
       "      <td>ViralysisId=6691eddd-d45b-4795-a38c-6b32b5c082...</td>\n",
       "      <td>{'account-id': '', 'api-id': '1asdd2nwvf', 'ap...</td>\n",
       "      <td>{'path': {}, 'querystring': {}, 'header': {'ac...</td>\n",
       "      <td>1582718331.4227982</td>\n",
       "      <td>5jPt3e</td>\n",
       "      <td>116a843b-fea0-4670-b79e-a29c1be2b133</td>\n",
       "      <td>{}</td>\n",
       "      <td>02/26/2020</td>\n",
       "      <td>YosDos</td>\n",
       "    </tr>\n",
       "    <tr>\n",
       "      <th>1</th>\n",
       "      <td>{'ViralysisId': '116a843b-fea0-4670-b79e-a29c1...</td>\n",
       "      <td>6691eddd-d45b-4795-a38c-6b32b5c08232xdlfuZ</td>\n",
       "      <td>ViralysisId=6691eddd-d45b-4795-a38c-6b32b5c082...</td>\n",
       "      <td>{'account-id': '', 'api-id': '1asdd2nwvf', 'ap...</td>\n",
       "      <td>{'path': {}, 'querystring': {}, 'header': {'ac...</td>\n",
       "      <td>1582718480.2775803</td>\n",
       "      <td>MXCYsk</td>\n",
       "      <td>116a843b-fea0-4670-b79e-a29c1be2b133</td>\n",
       "      <td>{}</td>\n",
       "      <td>02/26/2020</td>\n",
       "      <td>YosDos</td>\n",
       "    </tr>\n",
       "  </tbody>\n",
       "</table>\n",
       "</div>"
      ],
      "text/plain": [
       "                                           body-json  \\\n",
       "0  {'ViralysisId': '116a843b-fea0-4670-b79e-a29c1...   \n",
       "1  {'ViralysisId': '116a843b-fea0-4670-b79e-a29c1...   \n",
       "\n",
       "                                       idHttp  \\\n",
       "0  6691eddd-d45b-4795-a38c-6b32b5c08232xdlfuZ   \n",
       "1  6691eddd-d45b-4795-a38c-6b32b5c08232xdlfuZ   \n",
       "\n",
       "                                              cookie  \\\n",
       "0  ViralysisId=6691eddd-d45b-4795-a38c-6b32b5c082...   \n",
       "1  ViralysisId=6691eddd-d45b-4795-a38c-6b32b5c082...   \n",
       "\n",
       "                                             context  \\\n",
       "0  {'account-id': '', 'api-id': '1asdd2nwvf', 'ap...   \n",
       "1  {'account-id': '', 'api-id': '1asdd2nwvf', 'ap...   \n",
       "\n",
       "                                              params                time  \\\n",
       "0  {'path': {}, 'querystring': {}, 'header': {'ac...  1582718331.4227982   \n",
       "1  {'path': {}, 'querystring': {}, 'header': {'ac...  1582718480.2775803   \n",
       "\n",
       "     rnd6                                    Id stage-variables   dt_object  \\\n",
       "0  5jPt3e  116a843b-fea0-4670-b79e-a29c1be2b133              {}  02/26/2020   \n",
       "1  MXCYsk  116a843b-fea0-4670-b79e-a29c1be2b133              {}  02/26/2020   \n",
       "\n",
       "   Client  \n",
       "0  YosDos  \n",
       "1  YosDos  "
      ]
     },
     "execution_count": 49,
     "metadata": {},
     "output_type": "execute_result"
    }
   ],
   "source": [
    "Pandas_Feed_table"
   ]
  },
  {
   "cell_type": "code",
   "execution_count": 31,
   "metadata": {
    "collapsed": true
   },
   "outputs": [
    {
     "ename": "AttributeError",
     "evalue": "'str' object has no attribute 'get'",
     "output_type": "error",
     "traceback": [
      "\u001b[0;31m---------------------------------------------------------------------------\u001b[0m",
      "\u001b[0;31mAttributeError\u001b[0m                            Traceback (most recent call last)",
      "\u001b[0;32m<ipython-input-31-1dc29d43c125>\u001b[0m in \u001b[0;36m<module>\u001b[0;34m\u001b[0m\n\u001b[0;32m----> 1\u001b[0;31m \u001b[0mfeature3\u001b[0m \u001b[0;34m=\u001b[0m \u001b[0;34m[\u001b[0m\u001b[0md\u001b[0m\u001b[0;34m.\u001b[0m\u001b[0mget\u001b[0m\u001b[0;34m(\u001b[0m\u001b[0;34m'ViralysisClientId'\u001b[0m\u001b[0;34m)\u001b[0m \u001b[0;32mfor\u001b[0m \u001b[0md\u001b[0m \u001b[0;32min\u001b[0m \u001b[0mde\u001b[0m\u001b[0;34m]\u001b[0m\u001b[0;34m\u001b[0m\u001b[0;34m\u001b[0m\u001b[0m\n\u001b[0m",
      "\u001b[0;32m<ipython-input-31-1dc29d43c125>\u001b[0m in \u001b[0;36m<listcomp>\u001b[0;34m(.0)\u001b[0m\n\u001b[0;32m----> 1\u001b[0;31m \u001b[0mfeature3\u001b[0m \u001b[0;34m=\u001b[0m \u001b[0;34m[\u001b[0m\u001b[0md\u001b[0m\u001b[0;34m.\u001b[0m\u001b[0mget\u001b[0m\u001b[0;34m(\u001b[0m\u001b[0;34m'ViralysisClientId'\u001b[0m\u001b[0;34m)\u001b[0m \u001b[0;32mfor\u001b[0m \u001b[0md\u001b[0m \u001b[0;32min\u001b[0m \u001b[0mde\u001b[0m\u001b[0;34m]\u001b[0m\u001b[0;34m\u001b[0m\u001b[0;34m\u001b[0m\u001b[0m\n\u001b[0m",
      "\u001b[0;31mAttributeError\u001b[0m: 'str' object has no attribute 'get'"
     ]
    }
   ],
   "source": [
    "feature3 = [d.get('ViralysisClientId') for d in de]"
   ]
  },
  {
   "cell_type": "code",
   "execution_count": 9,
   "metadata": {},
   "outputs": [],
   "source": [
    "#     dynamodb = boto3.resource('dynamodb')\n",
    "#     Feed_table = dynamodb.Table('viralysisTable1')\n",
    "#     Data_table = dynamodb.Table('AllDataViralysis')\n",
    "\n",
    "#     Feed_tableS = Feed_table.scan()\n",
    "#     Feed_tableS.get('Items')\n",
    "#     Pandas_Feed_table = pd.DataFrame.from_dict(Feed_tableS.get('Items'))"
   ]
  },
  {
   "cell_type": "markdown",
   "metadata": {},
   "source": [
    "## The Running Functions"
   ]
  },
  {
   "cell_type": "code",
   "execution_count": 1,
   "metadata": {},
   "outputs": [
    {
     "name": "stdout",
     "output_type": "stream",
     "text": [
      "Analizing...\n",
      "Add data to NumberOfEnterance table\n",
      "deleting items in feed table\n",
      "Done to delete all items in feed table (viralysisTable1)\n"
     ]
    }
   ],
   "source": [
    "def Main():\n",
    "     \n",
    "    import pandas as pd\n",
    "    from datetime import datetime\n",
    "    import boto3\n",
    "    \n",
    "#******those are my function importation\n",
    "#     %load XXXX.py\n",
    "    from EnterancePerDay import EnterancePerDay \n",
    "    from DeleteItems import DeleteItems \n",
    "# ********************\n",
    "\n",
    "    dynamodb = boto3.resource('dynamodb')\n",
    "    Feed_table = dynamodb.Table('viralysisTable1')\n",
    "    Data_table = dynamodb.Table('AllDataViralysis')\n",
    "\n",
    "    Feed_tableS = Feed_table.scan()\n",
    "    Feed_tableS.get('Items')\n",
    "    Pandas_Feed_table = pd.DataFrame.from_dict(Feed_tableS.get('Items'))\n",
    "\n",
    "#     Get the new feed and put them in the new table\n",
    "    for i in Feed_tableS.get('Items'):\n",
    "        Data_table.put_item(Item=i)\n",
    "        \n",
    "        \n",
    "#   update the enterance table   \n",
    "    EnterancePerDay(Pandas_Feed_table)   \n",
    "    #delete feedTable\n",
    "    DeleteItems('viralysisTable1')\n",
    "\n",
    "\n",
    "Main()"
   ]
  },
  {
   "cell_type": "code",
   "execution_count": 110,
   "metadata": {},
   "outputs": [],
   "source": [
    "DeleteItems(Feed_table)\n"
   ]
  },
  {
   "cell_type": "code",
   "execution_count": 4,
   "metadata": {},
   "outputs": [],
   "source": [
    "# s3 = boto3.resource('s3')\n",
    "# my_bucket = s3.Bucket('viralanalysis')"
   ]
  },
  {
   "cell_type": "code",
   "execution_count": 5,
   "metadata": {
    "scrolled": true
   },
   "outputs": [
    {
     "name": "stdout",
     "output_type": "stream",
     "text": [
      "mainWebsite.html\n"
     ]
    }
   ],
   "source": [
    "for file in my_bucket.objects.all():\n",
    "    print(file.key)\n"
   ]
  },
  {
   "cell_type": "markdown",
   "metadata": {},
   "source": [
    "## Analyse the new feed"
   ]
  },
  {
   "cell_type": "code",
   "execution_count": 43,
   "metadata": {},
   "outputs": [
    {
     "data": {
      "text/plain": [
       "[\"{'ViralysisId': '116a843b-fea0-4670-b79e-a29c1be2b133', 'vai': '', 'href': 'http://bioinformatics-israel.com/', 'ViralysisClientId': 'YosDos'}\",\n",
       " \"{'ViralysisId': '116a843b-fea0-4670-b79e-a29c1be2b133', 'vai': 'z2DYar', 'href': 'http://bioinformatics-israel.com/#&vai=z2DYar', 'ViralysisClientId': 'YosDos'}\"]"
      ]
     },
     "execution_count": 43,
     "metadata": {},
     "output_type": "execute_result"
    }
   ],
   "source": [
    "[i for i in Pandas_Feed_table['body-json'] if {'ViralysisClientId':'YosDos'}]"
   ]
  },
  {
   "cell_type": "code",
   "execution_count": 46,
   "metadata": {
    "scrolled": true
   },
   "outputs": [
    {
     "data": {
      "text/html": [
       "<div>\n",
       "<style scoped>\n",
       "    .dataframe tbody tr th:only-of-type {\n",
       "        vertical-align: middle;\n",
       "    }\n",
       "\n",
       "    .dataframe tbody tr th {\n",
       "        vertical-align: top;\n",
       "    }\n",
       "\n",
       "    .dataframe thead th {\n",
       "        text-align: right;\n",
       "    }\n",
       "</style>\n",
       "<table border=\"1\" class=\"dataframe\">\n",
       "  <thead>\n",
       "    <tr style=\"text-align: right;\">\n",
       "      <th></th>\n",
       "      <th>body-json</th>\n",
       "      <th>idHttp</th>\n",
       "      <th>cookie</th>\n",
       "      <th>context</th>\n",
       "      <th>params</th>\n",
       "      <th>time</th>\n",
       "      <th>rnd6</th>\n",
       "      <th>Id</th>\n",
       "      <th>stage-variables</th>\n",
       "      <th>dt_object</th>\n",
       "    </tr>\n",
       "  </thead>\n",
       "  <tbody>\n",
       "  </tbody>\n",
       "</table>\n",
       "</div>"
      ],
      "text/plain": [
       "Empty DataFrame\n",
       "Columns: [body-json, idHttp, cookie, context, params, time, rnd6, Id, stage-variables, dt_object]\n",
       "Index: []"
      ]
     },
     "execution_count": 46,
     "metadata": {},
     "output_type": "execute_result"
    }
   ],
   "source": [
    "Pandas_Feed_table.loc[Pandas_Feed_table['body-json'].]"
   ]
  },
  {
   "cell_type": "code",
   "execution_count": 41,
   "metadata": {},
   "outputs": [
    {
     "data": {
      "text/plain": [
       "0    {'ViralysisId': '116a843b-fea0-4670-b79e-a29c1...\n",
       "1    {'ViralysisId': '116a843b-fea0-4670-b79e-a29c1...\n",
       "Name: body-json, dtype: object"
      ]
     },
     "execution_count": 41,
     "metadata": {},
     "output_type": "execute_result"
    }
   ],
   "source": [
    "Pandas_Feed_table['body-json'].loc()"
   ]
  },
  {
   "cell_type": "code",
   "execution_count": 52,
   "metadata": {},
   "outputs": [],
   "source": [
    "data = str('the table have: ' + str(PandasTable.shape[0])+ ' rows to analyse')"
   ]
  },
  {
   "cell_type": "code",
   "execution_count": 169,
   "metadata": {},
   "outputs": [],
   "source": [
    "data = groupbyTime.to_html()"
   ]
  },
  {
   "cell_type": "code",
   "execution_count": 170,
   "metadata": {},
   "outputs": [
    {
     "data": {
      "text/plain": [
       "s3.Object(bucket_name='www.myexamplewebsite.com', key='index.html')"
      ]
     },
     "execution_count": 170,
     "metadata": {},
     "output_type": "execute_result"
    }
   ],
   "source": [
    "my_bucket.put_object(Key='index.html', Body=data, ContentType='text/html')"
   ]
  },
  {
   "cell_type": "code",
   "execution_count": 83,
   "metadata": {
    "scrolled": true
   },
   "outputs": [
    {
     "data": {
      "text/plain": [
       "'313'"
      ]
     },
     "execution_count": 83,
     "metadata": {},
     "output_type": "execute_result"
    }
   ],
   "source": [
    "str(Pandas_Feed_table.shape[0])"
   ]
  },
  {
   "cell_type": "code",
   "execution_count": 103,
   "metadata": {},
   "outputs": [
    {
     "data": {
      "text/plain": [
       "313"
      ]
     },
     "execution_count": 103,
     "metadata": {},
     "output_type": "execute_result"
    }
   ],
   "source": [
    "Data_table.item_count"
   ]
  },
  {
   "cell_type": "code",
   "execution_count": 95,
   "metadata": {
    "collapsed": true
   },
   "outputs": [
    {
     "ename": "TypeError",
     "evalue": "an integer is required (got type str)",
     "output_type": "error",
     "traceback": [
      "\u001b[0;31m---------------------------------------------------------------------------\u001b[0m",
      "\u001b[0;31mTypeError\u001b[0m                                 Traceback (most recent call last)",
      "\u001b[0;32m<ipython-input-95-c3a2665b2aec>\u001b[0m in \u001b[0;36m<module>\u001b[0;34m\u001b[0m\n\u001b[0;32m----> 1\u001b[0;31m \u001b[0;34m[\u001b[0m\u001b[0mdatetime\u001b[0m\u001b[0;34m.\u001b[0m\u001b[0mfromtimestamp\u001b[0m\u001b[0;34m(\u001b[0m\u001b[0mi\u001b[0m\u001b[0;34m)\u001b[0m \u001b[0;32mfor\u001b[0m \u001b[0mi\u001b[0m \u001b[0;32min\u001b[0m \u001b[0mPandasTable\u001b[0m\u001b[0;34m.\u001b[0m\u001b[0mtime\u001b[0m\u001b[0;34m]\u001b[0m\u001b[0;34m\u001b[0m\u001b[0;34m\u001b[0m\u001b[0m\n\u001b[0m",
      "\u001b[0;32m<ipython-input-95-c3a2665b2aec>\u001b[0m in \u001b[0;36m<listcomp>\u001b[0;34m(.0)\u001b[0m\n\u001b[0;32m----> 1\u001b[0;31m \u001b[0;34m[\u001b[0m\u001b[0mdatetime\u001b[0m\u001b[0;34m.\u001b[0m\u001b[0mfromtimestamp\u001b[0m\u001b[0;34m(\u001b[0m\u001b[0mi\u001b[0m\u001b[0;34m)\u001b[0m \u001b[0;32mfor\u001b[0m \u001b[0mi\u001b[0m \u001b[0;32min\u001b[0m \u001b[0mPandasTable\u001b[0m\u001b[0;34m.\u001b[0m\u001b[0mtime\u001b[0m\u001b[0;34m]\u001b[0m\u001b[0;34m\u001b[0m\u001b[0;34m\u001b[0m\u001b[0m\n\u001b[0m",
      "\u001b[0;31mTypeError\u001b[0m: an integer is required (got type str)"
     ]
    }
   ],
   "source": [
    "[datetime.fromtimestamp(i) for i in PandasTable.time]"
   ]
  },
  {
   "cell_type": "code",
   "execution_count": 114,
   "metadata": {
    "collapsed": true
   },
   "outputs": [
    {
     "name": "stdout",
     "output_type": "stream",
     "text": [
      "01/31/2020\n",
      "01/19/2020\n",
      "01/11/2020\n",
      "01/08/2020\n",
      "01/15/2020\n",
      "01/23/2020\n",
      "01/26/2020\n",
      "01/23/2020\n",
      "02/12/2020\n",
      "01/23/2020\n",
      "02/09/2020\n",
      "01/18/2020\n",
      "01/11/2020\n",
      "02/08/2020\n",
      "02/09/2020\n",
      "01/23/2020\n",
      "01/23/2020\n",
      "02/13/2020\n",
      "01/23/2020\n",
      "02/06/2020\n",
      "01/21/2020\n",
      "01/23/2020\n",
      "01/15/2020\n",
      "02/06/2020\n",
      "01/19/2020\n",
      "01/09/2020\n",
      "01/23/2020\n",
      "01/23/2020\n",
      "01/23/2020\n",
      "01/23/2020\n",
      "01/31/2020\n",
      "02/14/2020\n",
      "02/06/2020\n",
      "01/11/2020\n",
      "01/28/2020\n",
      "01/18/2020\n",
      "01/08/2020\n",
      "01/21/2020\n",
      "01/29/2020\n",
      "01/25/2020\n",
      "01/11/2020\n",
      "01/31/2020\n",
      "02/05/2020\n",
      "02/13/2020\n",
      "02/13/2020\n",
      "02/04/2020\n",
      "02/13/2020\n",
      "01/23/2020\n",
      "01/16/2020\n",
      "01/18/2020\n",
      "01/11/2020\n",
      "01/23/2020\n",
      "02/11/2020\n",
      "01/15/2020\n",
      "01/22/2020\n",
      "01/22/2020\n",
      "01/15/2020\n",
      "01/15/2020\n",
      "01/08/2020\n",
      "01/20/2020\n",
      "02/10/2020\n",
      "01/15/2020\n",
      "01/14/2020\n",
      "01/10/2020\n",
      "01/08/2020\n",
      "02/03/2020\n",
      "01/19/2020\n",
      "01/23/2020\n",
      "02/07/2020\n",
      "01/19/2020\n",
      "01/23/2020\n",
      "02/05/2020\n",
      "02/09/2020\n",
      "01/11/2020\n",
      "01/22/2020\n",
      "01/23/2020\n",
      "02/03/2020\n",
      "02/09/2020\n",
      "02/12/2020\n",
      "01/23/2020\n",
      "01/23/2020\n",
      "02/13/2020\n",
      "01/11/2020\n",
      "01/22/2020\n",
      "01/23/2020\n",
      "01/20/2020\n",
      "01/25/2020\n",
      "01/23/2020\n",
      "01/23/2020\n",
      "02/09/2020\n",
      "02/14/2020\n",
      "01/22/2020\n",
      "01/18/2020\n",
      "01/23/2020\n",
      "01/15/2020\n",
      "01/12/2020\n",
      "01/15/2020\n",
      "01/30/2020\n",
      "02/09/2020\n",
      "02/14/2020\n",
      "02/09/2020\n",
      "02/09/2020\n",
      "01/22/2020\n",
      "02/09/2020\n",
      "01/21/2020\n",
      "02/09/2020\n",
      "01/11/2020\n",
      "01/23/2020\n",
      "01/11/2020\n",
      "02/05/2020\n",
      "02/09/2020\n",
      "01/09/2020\n",
      "01/09/2020\n",
      "01/17/2020\n",
      "01/23/2020\n",
      "01/14/2020\n",
      "01/23/2020\n",
      "02/11/2020\n",
      "02/14/2020\n",
      "01/23/2020\n",
      "01/23/2020\n",
      "01/27/2020\n",
      "01/27/2020\n",
      "02/14/2020\n",
      "01/15/2020\n",
      "02/13/2020\n",
      "02/08/2020\n",
      "01/23/2020\n",
      "01/11/2020\n",
      "02/08/2020\n",
      "01/22/2020\n",
      "01/12/2020\n",
      "01/23/2020\n",
      "01/29/2020\n",
      "01/18/2020\n",
      "01/30/2020\n",
      "02/09/2020\n",
      "01/23/2020\n",
      "01/28/2020\n",
      "02/08/2020\n",
      "02/07/2020\n",
      "01/11/2020\n",
      "01/23/2020\n",
      "02/05/2020\n",
      "01/23/2020\n",
      "01/11/2020\n",
      "01/23/2020\n",
      "02/09/2020\n",
      "01/11/2020\n",
      "01/16/2020\n",
      "01/10/2020\n",
      "02/13/2020\n",
      "01/27/2020\n",
      "01/15/2020\n",
      "01/26/2020\n",
      "01/11/2020\n",
      "01/23/2020\n",
      "01/18/2020\n",
      "02/05/2020\n",
      "02/09/2020\n",
      "01/08/2020\n",
      "01/17/2020\n",
      "01/23/2020\n",
      "02/08/2020\n",
      "01/23/2020\n",
      "02/14/2020\n",
      "01/25/2020\n",
      "01/25/2020\n",
      "02/09/2020\n",
      "02/14/2020\n",
      "02/15/2020\n",
      "01/27/2020\n",
      "01/15/2020\n",
      "01/11/2020\n",
      "01/23/2020\n",
      "01/08/2020\n",
      "01/23/2020\n",
      "01/22/2020\n",
      "01/08/2020\n",
      "01/13/2020\n",
      "01/22/2020\n",
      "01/20/2020\n",
      "01/23/2020\n",
      "01/23/2020\n",
      "02/10/2020\n",
      "01/22/2020\n",
      "01/30/2020\n",
      "01/18/2020\n",
      "01/08/2020\n",
      "02/13/2020\n",
      "01/23/2020\n",
      "01/12/2020\n",
      "02/15/2020\n",
      "02/09/2020\n",
      "01/23/2020\n",
      "01/21/2020\n",
      "01/14/2020\n",
      "01/15/2020\n",
      "01/18/2020\n",
      "01/30/2020\n",
      "01/21/2020\n",
      "02/12/2020\n",
      "01/24/2020\n",
      "01/23/2020\n",
      "01/11/2020\n",
      "01/23/2020\n",
      "01/21/2020\n",
      "01/13/2020\n",
      "01/23/2020\n",
      "01/11/2020\n",
      "01/08/2020\n",
      "01/23/2020\n",
      "02/13/2020\n",
      "01/19/2020\n",
      "01/11/2020\n",
      "01/23/2020\n",
      "02/12/2020\n",
      "02/10/2020\n",
      "01/18/2020\n",
      "01/23/2020\n",
      "01/23/2020\n",
      "01/15/2020\n",
      "02/11/2020\n",
      "01/11/2020\n",
      "01/19/2020\n",
      "01/10/2020\n",
      "01/23/2020\n",
      "01/22/2020\n",
      "01/11/2020\n",
      "01/11/2020\n",
      "01/23/2020\n",
      "01/15/2020\n",
      "01/18/2020\n",
      "01/23/2020\n",
      "01/10/2020\n",
      "01/28/2020\n",
      "01/15/2020\n",
      "01/15/2020\n",
      "01/15/2020\n",
      "01/12/2020\n",
      "02/03/2020\n",
      "01/23/2020\n",
      "01/18/2020\n",
      "02/10/2020\n",
      "01/08/2020\n",
      "01/17/2020\n",
      "01/28/2020\n",
      "02/12/2020\n",
      "01/23/2020\n",
      "02/09/2020\n",
      "02/07/2020\n",
      "02/05/2020\n",
      "01/09/2020\n",
      "01/23/2020\n",
      "01/15/2020\n",
      "01/23/2020\n",
      "01/28/2020\n",
      "02/05/2020\n",
      "01/08/2020\n",
      "01/23/2020\n",
      "02/02/2020\n",
      "01/16/2020\n",
      "01/31/2020\n",
      "01/23/2020\n",
      "01/23/2020\n",
      "01/15/2020\n",
      "01/08/2020\n",
      "01/15/2020\n",
      "01/10/2020\n",
      "02/14/2020\n",
      "01/11/2020\n"
     ]
    }
   ],
   "source": [
    "for i in PandasTable.time:\n",
    "    print(datetime.fromtimestamp(float(i)).strftime(\"%m/%d/%Y\"))"
   ]
  },
  {
   "cell_type": "code",
   "execution_count": 92,
   "metadata": {
    "collapsed": true
   },
   "outputs": [
    {
     "ename": "JSONDecodeError",
     "evalue": "Expecting value: line 1 column 1 (char 0)",
     "output_type": "error",
     "traceback": [
      "\u001b[0;31m---------------------------------------------------------------------------\u001b[0m",
      "\u001b[0;31mJSONDecodeError\u001b[0m                           Traceback (most recent call last)",
      "\u001b[0;32m<ipython-input-92-efcc162e4478>\u001b[0m in \u001b[0;36m<module>\u001b[0;34m\u001b[0m\n\u001b[1;32m      1\u001b[0m \u001b[0;32mimport\u001b[0m \u001b[0mjson\u001b[0m\u001b[0;34m\u001b[0m\u001b[0;34m\u001b[0m\u001b[0m\n\u001b[0;32m----> 2\u001b[0;31m \u001b[0mdata\u001b[0m \u001b[0;34m=\u001b[0m \u001b[0mjson\u001b[0m\u001b[0;34m.\u001b[0m\u001b[0mload\u001b[0m\u001b[0;34m(\u001b[0m\u001b[0mopen\u001b[0m\u001b[0;34m(\u001b[0m\u001b[0;34m'table.json'\u001b[0m\u001b[0;34m)\u001b[0m\u001b[0;34m)\u001b[0m\u001b[0;34m\u001b[0m\u001b[0;34m\u001b[0m\u001b[0m\n\u001b[0m\u001b[1;32m      3\u001b[0m \u001b[0;34m\u001b[0m\u001b[0m\n\u001b[1;32m      4\u001b[0m \u001b[0mdf\u001b[0m \u001b[0;34m=\u001b[0m \u001b[0mpd\u001b[0m\u001b[0;34m.\u001b[0m\u001b[0mDataFrame\u001b[0m\u001b[0;34m(\u001b[0m\u001b[0mdata\u001b[0m\u001b[0;34m[\u001b[0m\u001b[0;34m\"result\"\u001b[0m\u001b[0;34m]\u001b[0m\u001b[0;34m)\u001b[0m\u001b[0;34m\u001b[0m\u001b[0;34m\u001b[0m\u001b[0m\n",
      "\u001b[0;32m~/miniconda3/lib/python3.7/json/__init__.py\u001b[0m in \u001b[0;36mload\u001b[0;34m(fp, cls, object_hook, parse_float, parse_int, parse_constant, object_pairs_hook, **kw)\u001b[0m\n\u001b[1;32m    294\u001b[0m         \u001b[0mcls\u001b[0m\u001b[0;34m=\u001b[0m\u001b[0mcls\u001b[0m\u001b[0;34m,\u001b[0m \u001b[0mobject_hook\u001b[0m\u001b[0;34m=\u001b[0m\u001b[0mobject_hook\u001b[0m\u001b[0;34m,\u001b[0m\u001b[0;34m\u001b[0m\u001b[0;34m\u001b[0m\u001b[0m\n\u001b[1;32m    295\u001b[0m         \u001b[0mparse_float\u001b[0m\u001b[0;34m=\u001b[0m\u001b[0mparse_float\u001b[0m\u001b[0;34m,\u001b[0m \u001b[0mparse_int\u001b[0m\u001b[0;34m=\u001b[0m\u001b[0mparse_int\u001b[0m\u001b[0;34m,\u001b[0m\u001b[0;34m\u001b[0m\u001b[0;34m\u001b[0m\u001b[0m\n\u001b[0;32m--> 296\u001b[0;31m         parse_constant=parse_constant, object_pairs_hook=object_pairs_hook, **kw)\n\u001b[0m\u001b[1;32m    297\u001b[0m \u001b[0;34m\u001b[0m\u001b[0m\n\u001b[1;32m    298\u001b[0m \u001b[0;34m\u001b[0m\u001b[0m\n",
      "\u001b[0;32m~/miniconda3/lib/python3.7/json/__init__.py\u001b[0m in \u001b[0;36mloads\u001b[0;34m(s, encoding, cls, object_hook, parse_float, parse_int, parse_constant, object_pairs_hook, **kw)\u001b[0m\n\u001b[1;32m    346\u001b[0m             \u001b[0mparse_int\u001b[0m \u001b[0;32mis\u001b[0m \u001b[0;32mNone\u001b[0m \u001b[0;32mand\u001b[0m \u001b[0mparse_float\u001b[0m \u001b[0;32mis\u001b[0m \u001b[0;32mNone\u001b[0m \u001b[0;32mand\u001b[0m\u001b[0;34m\u001b[0m\u001b[0;34m\u001b[0m\u001b[0m\n\u001b[1;32m    347\u001b[0m             parse_constant is None and object_pairs_hook is None and not kw):\n\u001b[0;32m--> 348\u001b[0;31m         \u001b[0;32mreturn\u001b[0m \u001b[0m_default_decoder\u001b[0m\u001b[0;34m.\u001b[0m\u001b[0mdecode\u001b[0m\u001b[0;34m(\u001b[0m\u001b[0ms\u001b[0m\u001b[0;34m)\u001b[0m\u001b[0;34m\u001b[0m\u001b[0;34m\u001b[0m\u001b[0m\n\u001b[0m\u001b[1;32m    349\u001b[0m     \u001b[0;32mif\u001b[0m \u001b[0mcls\u001b[0m \u001b[0;32mis\u001b[0m \u001b[0;32mNone\u001b[0m\u001b[0;34m:\u001b[0m\u001b[0;34m\u001b[0m\u001b[0;34m\u001b[0m\u001b[0m\n\u001b[1;32m    350\u001b[0m         \u001b[0mcls\u001b[0m \u001b[0;34m=\u001b[0m \u001b[0mJSONDecoder\u001b[0m\u001b[0;34m\u001b[0m\u001b[0;34m\u001b[0m\u001b[0m\n",
      "\u001b[0;32m~/miniconda3/lib/python3.7/json/decoder.py\u001b[0m in \u001b[0;36mdecode\u001b[0;34m(self, s, _w)\u001b[0m\n\u001b[1;32m    335\u001b[0m \u001b[0;34m\u001b[0m\u001b[0m\n\u001b[1;32m    336\u001b[0m         \"\"\"\n\u001b[0;32m--> 337\u001b[0;31m         \u001b[0mobj\u001b[0m\u001b[0;34m,\u001b[0m \u001b[0mend\u001b[0m \u001b[0;34m=\u001b[0m \u001b[0mself\u001b[0m\u001b[0;34m.\u001b[0m\u001b[0mraw_decode\u001b[0m\u001b[0;34m(\u001b[0m\u001b[0ms\u001b[0m\u001b[0;34m,\u001b[0m \u001b[0midx\u001b[0m\u001b[0;34m=\u001b[0m\u001b[0m_w\u001b[0m\u001b[0;34m(\u001b[0m\u001b[0ms\u001b[0m\u001b[0;34m,\u001b[0m \u001b[0;36m0\u001b[0m\u001b[0;34m)\u001b[0m\u001b[0;34m.\u001b[0m\u001b[0mend\u001b[0m\u001b[0;34m(\u001b[0m\u001b[0;34m)\u001b[0m\u001b[0;34m)\u001b[0m\u001b[0;34m\u001b[0m\u001b[0;34m\u001b[0m\u001b[0m\n\u001b[0m\u001b[1;32m    338\u001b[0m         \u001b[0mend\u001b[0m \u001b[0;34m=\u001b[0m \u001b[0m_w\u001b[0m\u001b[0;34m(\u001b[0m\u001b[0ms\u001b[0m\u001b[0;34m,\u001b[0m \u001b[0mend\u001b[0m\u001b[0;34m)\u001b[0m\u001b[0;34m.\u001b[0m\u001b[0mend\u001b[0m\u001b[0;34m(\u001b[0m\u001b[0;34m)\u001b[0m\u001b[0;34m\u001b[0m\u001b[0;34m\u001b[0m\u001b[0m\n\u001b[1;32m    339\u001b[0m         \u001b[0;32mif\u001b[0m \u001b[0mend\u001b[0m \u001b[0;34m!=\u001b[0m \u001b[0mlen\u001b[0m\u001b[0;34m(\u001b[0m\u001b[0ms\u001b[0m\u001b[0;34m)\u001b[0m\u001b[0;34m:\u001b[0m\u001b[0;34m\u001b[0m\u001b[0;34m\u001b[0m\u001b[0m\n",
      "\u001b[0;32m~/miniconda3/lib/python3.7/json/decoder.py\u001b[0m in \u001b[0;36mraw_decode\u001b[0;34m(self, s, idx)\u001b[0m\n\u001b[1;32m    353\u001b[0m             \u001b[0mobj\u001b[0m\u001b[0;34m,\u001b[0m \u001b[0mend\u001b[0m \u001b[0;34m=\u001b[0m \u001b[0mself\u001b[0m\u001b[0;34m.\u001b[0m\u001b[0mscan_once\u001b[0m\u001b[0;34m(\u001b[0m\u001b[0ms\u001b[0m\u001b[0;34m,\u001b[0m \u001b[0midx\u001b[0m\u001b[0;34m)\u001b[0m\u001b[0;34m\u001b[0m\u001b[0;34m\u001b[0m\u001b[0m\n\u001b[1;32m    354\u001b[0m         \u001b[0;32mexcept\u001b[0m \u001b[0mStopIteration\u001b[0m \u001b[0;32mas\u001b[0m \u001b[0merr\u001b[0m\u001b[0;34m:\u001b[0m\u001b[0;34m\u001b[0m\u001b[0;34m\u001b[0m\u001b[0m\n\u001b[0;32m--> 355\u001b[0;31m             \u001b[0;32mraise\u001b[0m \u001b[0mJSONDecodeError\u001b[0m\u001b[0;34m(\u001b[0m\u001b[0;34m\"Expecting value\"\u001b[0m\u001b[0;34m,\u001b[0m \u001b[0ms\u001b[0m\u001b[0;34m,\u001b[0m \u001b[0merr\u001b[0m\u001b[0;34m.\u001b[0m\u001b[0mvalue\u001b[0m\u001b[0;34m)\u001b[0m \u001b[0;32mfrom\u001b[0m \u001b[0;32mNone\u001b[0m\u001b[0;34m\u001b[0m\u001b[0;34m\u001b[0m\u001b[0m\n\u001b[0m\u001b[1;32m    356\u001b[0m         \u001b[0;32mreturn\u001b[0m \u001b[0mobj\u001b[0m\u001b[0;34m,\u001b[0m \u001b[0mend\u001b[0m\u001b[0;34m\u001b[0m\u001b[0;34m\u001b[0m\u001b[0m\n",
      "\u001b[0;31mJSONDecodeError\u001b[0m: Expecting value: line 1 column 1 (char 0)"
     ]
    }
   ],
   "source": [
    "import json\n",
    "data = json.load(open('table.json'))\n",
    "\n",
    "df = pd.DataFrame(data[\"result\"])"
   ]
  }
 ],
 "metadata": {
  "kernelspec": {
   "display_name": "Python 3",
   "language": "python",
   "name": "python3"
  },
  "language_info": {
   "codemirror_mode": {
    "name": "ipython",
    "version": 3
   },
   "file_extension": ".py",
   "mimetype": "text/x-python",
   "name": "python",
   "nbconvert_exporter": "python",
   "pygments_lexer": "ipython3",
   "version": "3.7.4"
  }
 },
 "nbformat": 4,
 "nbformat_minor": 4
}
