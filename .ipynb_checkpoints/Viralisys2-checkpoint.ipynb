{
 "cells": [
  {
   "cell_type": "code",
   "execution_count": 1,
   "metadata": {},
   "outputs": [
    {
     "name": "stdout",
     "output_type": "stream",
     "text": [
      "\r\n",
      "An error occurred (UnrecognizedClientException) when calling the ListTables operation: The security token included in the request is invalid.\r\n"
     ]
    }
   ],
   "source": [
    "!aws dynamodb list-tables"
   ]
  },
  {
   "cell_type": "code",
   "execution_count": 133,
   "metadata": {},
   "outputs": [],
   "source": [
    "\n"
   ]
  },
  {
   "cell_type": "code",
   "execution_count": 3,
   "metadata": {},
   "outputs": [],
   "source": [
    "import pandas as pd\n",
    "from datetime import datetime\n",
    "import boto3\n"
   ]
  },
  {
   "cell_type": "code",
   "execution_count": 134,
   "metadata": {},
   "outputs": [],
   "source": [
    "EnterancePerDay(Pandas_Feed_table)"
   ]
  },
  {
   "cell_type": "code",
   "execution_count": 142,
   "metadata": {},
   "outputs": [
    {
     "name": "stdout",
     "output_type": "stream",
     "text": [
      "{'body-json': \"{'ViralysisId': '3777ac95-9c63-4a15-85db-240e3b67c880', 'vai': 'nbHvRS', 'href': 'http://bioinformatics-israel.com/#&vai=nbHvRS', 'ViralysisClientId': 'YosDos'}\", 'idHttp': 'f492416c-8ede-412d-8243-0622773dfe020UQru7', 'cookie': 'ViralysisId=f492416c-8ede-412d-8243-0622773dfe020UQru7', 'context': \"{'account-id': '', 'api-id': '1asdd2nwvf', 'api-key': '', 'authorizer-principal-id': '', 'caller': '', 'cognito-authentication-provider': '', 'cognito-authentication-type': '', 'cognito-identity-id': '', 'cognito-identity-pool-id': '', 'http-method': 'POST', 'stage': 'Get', 'source-ip': '109.66.198.128', 'user': '', 'user-agent': 'Mozilla/5.0 (X11; Ubuntu; Linux x86_64; rv:73.0) Gecko/20100101 Firefox/73.0', 'user-arn': '', 'request-id': 'c698927a-d086-446d-aea0-e8e95a30acce', 'resource-id': 'h6kop6js7i', 'resource-path': '/'}\", 'params': \"{'path': {}, 'querystring': {}, 'header': {'accept': '*/*', 'accept-encoding': 'gzip, deflate, br', 'accept-language': 'en-US,en;q=0.5', 'cache-control': 'max-age=0', 'content-type': 'application/x-www-form-urlencoded', 'cookie': 'ViralysisId=f492416c-8ede-412d-8243-0622773dfe020UQru7', 'Host': '1asdd2nwvf.execute-api.us-east-1.amazonaws.com', 'origin': 'http://bioinformatics-israel.com', 'referer': 'http://bioinformatics-israel.com/', 'User-Agent': 'Mozilla/5.0 (X11; Ubuntu; Linux x86_64; rv:73.0) Gecko/20100101 Firefox/73.0', 'X-Amzn-Trace-Id': 'Root=1-5e52f0f2-c0feaad72cb245b921c381cd', 'X-Forwarded-For': '109.66.198.128', 'X-Forwarded-Port': '443', 'X-Forwarded-Proto': 'https'}}\", 'time': '1582493938.9032655', 'rnd6': 'r2cQsW', 'Id': '3777ac95-9c63-4a15-85db-240e3b67c880', 'stage-variables': '{}'}\n",
      "deleting items in feed table\n"
     ]
    }
   ],
   "source": [
    "def Main():\n",
    "    dynamodb = boto3.resource('dynamodb')\n",
    "    Feed_table = dynamodb.Table('viralysisTable1')\n",
    "    Data_table = dynamodb.Table('AllDataViralysis')\n",
    "\n",
    "    Feed_tableS = Feed_table.scan()\n",
    "    Feed_tableS.get('Items')\n",
    "    Pandas_Feed_table = pd.DataFrame.from_dict(Feed_tableS.get('Items'))\n",
    "\n",
    "#     Get the new feed and put them in the new table\n",
    "    for i in Feed_tableS.get('Items'):\n",
    "        print(i)\n",
    "        Data_table.put_item(Item=i)\n",
    "        \n",
    "    EnterancePerDay(Pandas_Feed_table)   \n",
    "    #delete feedTable\n",
    "    DeleteItems(Feed_tableS)\n",
    "    \n",
    "def EnterancePerDay(Pandas_Feed_table):\n",
    "    '''update the table with the number of \n",
    "    Enterance per day'''\n",
    "    \n",
    "    \n",
    "    Pandas_Feed_table['dt_object'] = [datetime.fromtimestamp(float(i)).strftime(\"%m/%d/%Y\") \n",
    "                                      for i in Pandas_Feed_table.time]\n",
    "    groupbyTime = Pandas_Feed_table.groupby('dt_object').count().loc[:, ['body-json']]\n",
    "    groupbyTime.reset_index(inplace=True)\n",
    "    groupbyTime.columns=['Date','Num of enterance']\n",
    "    groupbyTimeDict = groupbyTime.T.to_dict().values()\n",
    "    Enterance_Table = dynamodb.Table('NumberOfEnterance')\n",
    "    \n",
    "    #Update the Feature Table:\n",
    "    for event in groupbyTimeDict:\n",
    "        Enterance_Table.put_item(Item=event)    \n",
    "    \n",
    "def DeleteItems(Table):\n",
    "    print('deleting items in feed table')\n",
    "    Feed_tableS = Feed_table.scan()\n",
    "    for each in Feed_tableS.get('Items'):\n",
    "        Feed_table.delete_item(Key={'time': each['time']})\n",
    "        \n",
    "\n",
    "Main()"
   ]
  },
  {
   "cell_type": "code",
   "execution_count": 110,
   "metadata": {},
   "outputs": [],
   "source": [
    "DeleteItems(Feed_table)\n"
   ]
  },
  {
   "cell_type": "code",
   "execution_count": 4,
   "metadata": {},
   "outputs": [],
   "source": [
    "# s3 = boto3.resource('s3')\n",
    "# my_bucket = s3.Bucket('viralanalysis')"
   ]
  },
  {
   "cell_type": "code",
   "execution_count": 5,
   "metadata": {
    "scrolled": true
   },
   "outputs": [
    {
     "name": "stdout",
     "output_type": "stream",
     "text": [
      "mainWebsite.html\n"
     ]
    }
   ],
   "source": [
    "for file in my_bucket.objects.all():\n",
    "    print(file.key)\n"
   ]
  },
  {
   "cell_type": "markdown",
   "metadata": {},
   "source": [
    "## Analyse the new feed"
   ]
  },
  {
   "cell_type": "code",
   "execution_count": 23,
   "metadata": {},
   "outputs": [],
   "source": []
  },
  {
   "cell_type": "code",
   "execution_count": 46,
   "metadata": {},
   "outputs": [],
   "source": []
  },
  {
   "cell_type": "code",
   "execution_count": 52,
   "metadata": {},
   "outputs": [],
   "source": [
    "data = str('the table have: ' + str(PandasTable.shape[0])+ ' rows to analyse')"
   ]
  },
  {
   "cell_type": "code",
   "execution_count": 169,
   "metadata": {},
   "outputs": [],
   "source": [
    "data = groupbyTime.to_html()"
   ]
  },
  {
   "cell_type": "code",
   "execution_count": 170,
   "metadata": {},
   "outputs": [
    {
     "data": {
      "text/plain": [
       "s3.Object(bucket_name='www.myexamplewebsite.com', key='index.html')"
      ]
     },
     "execution_count": 170,
     "metadata": {},
     "output_type": "execute_result"
    }
   ],
   "source": [
    "my_bucket.put_object(Key='index.html', Body=data, ContentType='text/html')"
   ]
  },
  {
   "cell_type": "code",
   "execution_count": 83,
   "metadata": {
    "scrolled": true
   },
   "outputs": [
    {
     "data": {
      "text/plain": [
       "'313'"
      ]
     },
     "execution_count": 83,
     "metadata": {},
     "output_type": "execute_result"
    }
   ],
   "source": [
    "str(Pandas_Feed_table.shape[0])"
   ]
  },
  {
   "cell_type": "code",
   "execution_count": 103,
   "metadata": {},
   "outputs": [
    {
     "data": {
      "text/plain": [
       "313"
      ]
     },
     "execution_count": 103,
     "metadata": {},
     "output_type": "execute_result"
    }
   ],
   "source": [
    "Data_table.item_count"
   ]
  },
  {
   "cell_type": "code",
   "execution_count": 95,
   "metadata": {
    "collapsed": true
   },
   "outputs": [
    {
     "ename": "TypeError",
     "evalue": "an integer is required (got type str)",
     "output_type": "error",
     "traceback": [
      "\u001b[0;31m---------------------------------------------------------------------------\u001b[0m",
      "\u001b[0;31mTypeError\u001b[0m                                 Traceback (most recent call last)",
      "\u001b[0;32m<ipython-input-95-c3a2665b2aec>\u001b[0m in \u001b[0;36m<module>\u001b[0;34m\u001b[0m\n\u001b[0;32m----> 1\u001b[0;31m \u001b[0;34m[\u001b[0m\u001b[0mdatetime\u001b[0m\u001b[0;34m.\u001b[0m\u001b[0mfromtimestamp\u001b[0m\u001b[0;34m(\u001b[0m\u001b[0mi\u001b[0m\u001b[0;34m)\u001b[0m \u001b[0;32mfor\u001b[0m \u001b[0mi\u001b[0m \u001b[0;32min\u001b[0m \u001b[0mPandasTable\u001b[0m\u001b[0;34m.\u001b[0m\u001b[0mtime\u001b[0m\u001b[0;34m]\u001b[0m\u001b[0;34m\u001b[0m\u001b[0;34m\u001b[0m\u001b[0m\n\u001b[0m",
      "\u001b[0;32m<ipython-input-95-c3a2665b2aec>\u001b[0m in \u001b[0;36m<listcomp>\u001b[0;34m(.0)\u001b[0m\n\u001b[0;32m----> 1\u001b[0;31m \u001b[0;34m[\u001b[0m\u001b[0mdatetime\u001b[0m\u001b[0;34m.\u001b[0m\u001b[0mfromtimestamp\u001b[0m\u001b[0;34m(\u001b[0m\u001b[0mi\u001b[0m\u001b[0;34m)\u001b[0m \u001b[0;32mfor\u001b[0m \u001b[0mi\u001b[0m \u001b[0;32min\u001b[0m \u001b[0mPandasTable\u001b[0m\u001b[0;34m.\u001b[0m\u001b[0mtime\u001b[0m\u001b[0;34m]\u001b[0m\u001b[0;34m\u001b[0m\u001b[0;34m\u001b[0m\u001b[0m\n\u001b[0m",
      "\u001b[0;31mTypeError\u001b[0m: an integer is required (got type str)"
     ]
    }
   ],
   "source": [
    "[datetime.fromtimestamp(i) for i in PandasTable.time]"
   ]
  },
  {
   "cell_type": "code",
   "execution_count": 114,
   "metadata": {
    "collapsed": true
   },
   "outputs": [
    {
     "name": "stdout",
     "output_type": "stream",
     "text": [
      "01/31/2020\n",
      "01/19/2020\n",
      "01/11/2020\n",
      "01/08/2020\n",
      "01/15/2020\n",
      "01/23/2020\n",
      "01/26/2020\n",
      "01/23/2020\n",
      "02/12/2020\n",
      "01/23/2020\n",
      "02/09/2020\n",
      "01/18/2020\n",
      "01/11/2020\n",
      "02/08/2020\n",
      "02/09/2020\n",
      "01/23/2020\n",
      "01/23/2020\n",
      "02/13/2020\n",
      "01/23/2020\n",
      "02/06/2020\n",
      "01/21/2020\n",
      "01/23/2020\n",
      "01/15/2020\n",
      "02/06/2020\n",
      "01/19/2020\n",
      "01/09/2020\n",
      "01/23/2020\n",
      "01/23/2020\n",
      "01/23/2020\n",
      "01/23/2020\n",
      "01/31/2020\n",
      "02/14/2020\n",
      "02/06/2020\n",
      "01/11/2020\n",
      "01/28/2020\n",
      "01/18/2020\n",
      "01/08/2020\n",
      "01/21/2020\n",
      "01/29/2020\n",
      "01/25/2020\n",
      "01/11/2020\n",
      "01/31/2020\n",
      "02/05/2020\n",
      "02/13/2020\n",
      "02/13/2020\n",
      "02/04/2020\n",
      "02/13/2020\n",
      "01/23/2020\n",
      "01/16/2020\n",
      "01/18/2020\n",
      "01/11/2020\n",
      "01/23/2020\n",
      "02/11/2020\n",
      "01/15/2020\n",
      "01/22/2020\n",
      "01/22/2020\n",
      "01/15/2020\n",
      "01/15/2020\n",
      "01/08/2020\n",
      "01/20/2020\n",
      "02/10/2020\n",
      "01/15/2020\n",
      "01/14/2020\n",
      "01/10/2020\n",
      "01/08/2020\n",
      "02/03/2020\n",
      "01/19/2020\n",
      "01/23/2020\n",
      "02/07/2020\n",
      "01/19/2020\n",
      "01/23/2020\n",
      "02/05/2020\n",
      "02/09/2020\n",
      "01/11/2020\n",
      "01/22/2020\n",
      "01/23/2020\n",
      "02/03/2020\n",
      "02/09/2020\n",
      "02/12/2020\n",
      "01/23/2020\n",
      "01/23/2020\n",
      "02/13/2020\n",
      "01/11/2020\n",
      "01/22/2020\n",
      "01/23/2020\n",
      "01/20/2020\n",
      "01/25/2020\n",
      "01/23/2020\n",
      "01/23/2020\n",
      "02/09/2020\n",
      "02/14/2020\n",
      "01/22/2020\n",
      "01/18/2020\n",
      "01/23/2020\n",
      "01/15/2020\n",
      "01/12/2020\n",
      "01/15/2020\n",
      "01/30/2020\n",
      "02/09/2020\n",
      "02/14/2020\n",
      "02/09/2020\n",
      "02/09/2020\n",
      "01/22/2020\n",
      "02/09/2020\n",
      "01/21/2020\n",
      "02/09/2020\n",
      "01/11/2020\n",
      "01/23/2020\n",
      "01/11/2020\n",
      "02/05/2020\n",
      "02/09/2020\n",
      "01/09/2020\n",
      "01/09/2020\n",
      "01/17/2020\n",
      "01/23/2020\n",
      "01/14/2020\n",
      "01/23/2020\n",
      "02/11/2020\n",
      "02/14/2020\n",
      "01/23/2020\n",
      "01/23/2020\n",
      "01/27/2020\n",
      "01/27/2020\n",
      "02/14/2020\n",
      "01/15/2020\n",
      "02/13/2020\n",
      "02/08/2020\n",
      "01/23/2020\n",
      "01/11/2020\n",
      "02/08/2020\n",
      "01/22/2020\n",
      "01/12/2020\n",
      "01/23/2020\n",
      "01/29/2020\n",
      "01/18/2020\n",
      "01/30/2020\n",
      "02/09/2020\n",
      "01/23/2020\n",
      "01/28/2020\n",
      "02/08/2020\n",
      "02/07/2020\n",
      "01/11/2020\n",
      "01/23/2020\n",
      "02/05/2020\n",
      "01/23/2020\n",
      "01/11/2020\n",
      "01/23/2020\n",
      "02/09/2020\n",
      "01/11/2020\n",
      "01/16/2020\n",
      "01/10/2020\n",
      "02/13/2020\n",
      "01/27/2020\n",
      "01/15/2020\n",
      "01/26/2020\n",
      "01/11/2020\n",
      "01/23/2020\n",
      "01/18/2020\n",
      "02/05/2020\n",
      "02/09/2020\n",
      "01/08/2020\n",
      "01/17/2020\n",
      "01/23/2020\n",
      "02/08/2020\n",
      "01/23/2020\n",
      "02/14/2020\n",
      "01/25/2020\n",
      "01/25/2020\n",
      "02/09/2020\n",
      "02/14/2020\n",
      "02/15/2020\n",
      "01/27/2020\n",
      "01/15/2020\n",
      "01/11/2020\n",
      "01/23/2020\n",
      "01/08/2020\n",
      "01/23/2020\n",
      "01/22/2020\n",
      "01/08/2020\n",
      "01/13/2020\n",
      "01/22/2020\n",
      "01/20/2020\n",
      "01/23/2020\n",
      "01/23/2020\n",
      "02/10/2020\n",
      "01/22/2020\n",
      "01/30/2020\n",
      "01/18/2020\n",
      "01/08/2020\n",
      "02/13/2020\n",
      "01/23/2020\n",
      "01/12/2020\n",
      "02/15/2020\n",
      "02/09/2020\n",
      "01/23/2020\n",
      "01/21/2020\n",
      "01/14/2020\n",
      "01/15/2020\n",
      "01/18/2020\n",
      "01/30/2020\n",
      "01/21/2020\n",
      "02/12/2020\n",
      "01/24/2020\n",
      "01/23/2020\n",
      "01/11/2020\n",
      "01/23/2020\n",
      "01/21/2020\n",
      "01/13/2020\n",
      "01/23/2020\n",
      "01/11/2020\n",
      "01/08/2020\n",
      "01/23/2020\n",
      "02/13/2020\n",
      "01/19/2020\n",
      "01/11/2020\n",
      "01/23/2020\n",
      "02/12/2020\n",
      "02/10/2020\n",
      "01/18/2020\n",
      "01/23/2020\n",
      "01/23/2020\n",
      "01/15/2020\n",
      "02/11/2020\n",
      "01/11/2020\n",
      "01/19/2020\n",
      "01/10/2020\n",
      "01/23/2020\n",
      "01/22/2020\n",
      "01/11/2020\n",
      "01/11/2020\n",
      "01/23/2020\n",
      "01/15/2020\n",
      "01/18/2020\n",
      "01/23/2020\n",
      "01/10/2020\n",
      "01/28/2020\n",
      "01/15/2020\n",
      "01/15/2020\n",
      "01/15/2020\n",
      "01/12/2020\n",
      "02/03/2020\n",
      "01/23/2020\n",
      "01/18/2020\n",
      "02/10/2020\n",
      "01/08/2020\n",
      "01/17/2020\n",
      "01/28/2020\n",
      "02/12/2020\n",
      "01/23/2020\n",
      "02/09/2020\n",
      "02/07/2020\n",
      "02/05/2020\n",
      "01/09/2020\n",
      "01/23/2020\n",
      "01/15/2020\n",
      "01/23/2020\n",
      "01/28/2020\n",
      "02/05/2020\n",
      "01/08/2020\n",
      "01/23/2020\n",
      "02/02/2020\n",
      "01/16/2020\n",
      "01/31/2020\n",
      "01/23/2020\n",
      "01/23/2020\n",
      "01/15/2020\n",
      "01/08/2020\n",
      "01/15/2020\n",
      "01/10/2020\n",
      "02/14/2020\n",
      "01/11/2020\n"
     ]
    }
   ],
   "source": [
    "for i in PandasTable.time:\n",
    "    print(datetime.fromtimestamp(float(i)).strftime(\"%m/%d/%Y\"))"
   ]
  },
  {
   "cell_type": "code",
   "execution_count": 92,
   "metadata": {
    "collapsed": true
   },
   "outputs": [
    {
     "ename": "JSONDecodeError",
     "evalue": "Expecting value: line 1 column 1 (char 0)",
     "output_type": "error",
     "traceback": [
      "\u001b[0;31m---------------------------------------------------------------------------\u001b[0m",
      "\u001b[0;31mJSONDecodeError\u001b[0m                           Traceback (most recent call last)",
      "\u001b[0;32m<ipython-input-92-efcc162e4478>\u001b[0m in \u001b[0;36m<module>\u001b[0;34m\u001b[0m\n\u001b[1;32m      1\u001b[0m \u001b[0;32mimport\u001b[0m \u001b[0mjson\u001b[0m\u001b[0;34m\u001b[0m\u001b[0;34m\u001b[0m\u001b[0m\n\u001b[0;32m----> 2\u001b[0;31m \u001b[0mdata\u001b[0m \u001b[0;34m=\u001b[0m \u001b[0mjson\u001b[0m\u001b[0;34m.\u001b[0m\u001b[0mload\u001b[0m\u001b[0;34m(\u001b[0m\u001b[0mopen\u001b[0m\u001b[0;34m(\u001b[0m\u001b[0;34m'table.json'\u001b[0m\u001b[0;34m)\u001b[0m\u001b[0;34m)\u001b[0m\u001b[0;34m\u001b[0m\u001b[0;34m\u001b[0m\u001b[0m\n\u001b[0m\u001b[1;32m      3\u001b[0m \u001b[0;34m\u001b[0m\u001b[0m\n\u001b[1;32m      4\u001b[0m \u001b[0mdf\u001b[0m \u001b[0;34m=\u001b[0m \u001b[0mpd\u001b[0m\u001b[0;34m.\u001b[0m\u001b[0mDataFrame\u001b[0m\u001b[0;34m(\u001b[0m\u001b[0mdata\u001b[0m\u001b[0;34m[\u001b[0m\u001b[0;34m\"result\"\u001b[0m\u001b[0;34m]\u001b[0m\u001b[0;34m)\u001b[0m\u001b[0;34m\u001b[0m\u001b[0;34m\u001b[0m\u001b[0m\n",
      "\u001b[0;32m~/miniconda3/lib/python3.7/json/__init__.py\u001b[0m in \u001b[0;36mload\u001b[0;34m(fp, cls, object_hook, parse_float, parse_int, parse_constant, object_pairs_hook, **kw)\u001b[0m\n\u001b[1;32m    294\u001b[0m         \u001b[0mcls\u001b[0m\u001b[0;34m=\u001b[0m\u001b[0mcls\u001b[0m\u001b[0;34m,\u001b[0m \u001b[0mobject_hook\u001b[0m\u001b[0;34m=\u001b[0m\u001b[0mobject_hook\u001b[0m\u001b[0;34m,\u001b[0m\u001b[0;34m\u001b[0m\u001b[0;34m\u001b[0m\u001b[0m\n\u001b[1;32m    295\u001b[0m         \u001b[0mparse_float\u001b[0m\u001b[0;34m=\u001b[0m\u001b[0mparse_float\u001b[0m\u001b[0;34m,\u001b[0m \u001b[0mparse_int\u001b[0m\u001b[0;34m=\u001b[0m\u001b[0mparse_int\u001b[0m\u001b[0;34m,\u001b[0m\u001b[0;34m\u001b[0m\u001b[0;34m\u001b[0m\u001b[0m\n\u001b[0;32m--> 296\u001b[0;31m         parse_constant=parse_constant, object_pairs_hook=object_pairs_hook, **kw)\n\u001b[0m\u001b[1;32m    297\u001b[0m \u001b[0;34m\u001b[0m\u001b[0m\n\u001b[1;32m    298\u001b[0m \u001b[0;34m\u001b[0m\u001b[0m\n",
      "\u001b[0;32m~/miniconda3/lib/python3.7/json/__init__.py\u001b[0m in \u001b[0;36mloads\u001b[0;34m(s, encoding, cls, object_hook, parse_float, parse_int, parse_constant, object_pairs_hook, **kw)\u001b[0m\n\u001b[1;32m    346\u001b[0m             \u001b[0mparse_int\u001b[0m \u001b[0;32mis\u001b[0m \u001b[0;32mNone\u001b[0m \u001b[0;32mand\u001b[0m \u001b[0mparse_float\u001b[0m \u001b[0;32mis\u001b[0m \u001b[0;32mNone\u001b[0m \u001b[0;32mand\u001b[0m\u001b[0;34m\u001b[0m\u001b[0;34m\u001b[0m\u001b[0m\n\u001b[1;32m    347\u001b[0m             parse_constant is None and object_pairs_hook is None and not kw):\n\u001b[0;32m--> 348\u001b[0;31m         \u001b[0;32mreturn\u001b[0m \u001b[0m_default_decoder\u001b[0m\u001b[0;34m.\u001b[0m\u001b[0mdecode\u001b[0m\u001b[0;34m(\u001b[0m\u001b[0ms\u001b[0m\u001b[0;34m)\u001b[0m\u001b[0;34m\u001b[0m\u001b[0;34m\u001b[0m\u001b[0m\n\u001b[0m\u001b[1;32m    349\u001b[0m     \u001b[0;32mif\u001b[0m \u001b[0mcls\u001b[0m \u001b[0;32mis\u001b[0m \u001b[0;32mNone\u001b[0m\u001b[0;34m:\u001b[0m\u001b[0;34m\u001b[0m\u001b[0;34m\u001b[0m\u001b[0m\n\u001b[1;32m    350\u001b[0m         \u001b[0mcls\u001b[0m \u001b[0;34m=\u001b[0m \u001b[0mJSONDecoder\u001b[0m\u001b[0;34m\u001b[0m\u001b[0;34m\u001b[0m\u001b[0m\n",
      "\u001b[0;32m~/miniconda3/lib/python3.7/json/decoder.py\u001b[0m in \u001b[0;36mdecode\u001b[0;34m(self, s, _w)\u001b[0m\n\u001b[1;32m    335\u001b[0m \u001b[0;34m\u001b[0m\u001b[0m\n\u001b[1;32m    336\u001b[0m         \"\"\"\n\u001b[0;32m--> 337\u001b[0;31m         \u001b[0mobj\u001b[0m\u001b[0;34m,\u001b[0m \u001b[0mend\u001b[0m \u001b[0;34m=\u001b[0m \u001b[0mself\u001b[0m\u001b[0;34m.\u001b[0m\u001b[0mraw_decode\u001b[0m\u001b[0;34m(\u001b[0m\u001b[0ms\u001b[0m\u001b[0;34m,\u001b[0m \u001b[0midx\u001b[0m\u001b[0;34m=\u001b[0m\u001b[0m_w\u001b[0m\u001b[0;34m(\u001b[0m\u001b[0ms\u001b[0m\u001b[0;34m,\u001b[0m \u001b[0;36m0\u001b[0m\u001b[0;34m)\u001b[0m\u001b[0;34m.\u001b[0m\u001b[0mend\u001b[0m\u001b[0;34m(\u001b[0m\u001b[0;34m)\u001b[0m\u001b[0;34m)\u001b[0m\u001b[0;34m\u001b[0m\u001b[0;34m\u001b[0m\u001b[0m\n\u001b[0m\u001b[1;32m    338\u001b[0m         \u001b[0mend\u001b[0m \u001b[0;34m=\u001b[0m \u001b[0m_w\u001b[0m\u001b[0;34m(\u001b[0m\u001b[0ms\u001b[0m\u001b[0;34m,\u001b[0m \u001b[0mend\u001b[0m\u001b[0;34m)\u001b[0m\u001b[0;34m.\u001b[0m\u001b[0mend\u001b[0m\u001b[0;34m(\u001b[0m\u001b[0;34m)\u001b[0m\u001b[0;34m\u001b[0m\u001b[0;34m\u001b[0m\u001b[0m\n\u001b[1;32m    339\u001b[0m         \u001b[0;32mif\u001b[0m \u001b[0mend\u001b[0m \u001b[0;34m!=\u001b[0m \u001b[0mlen\u001b[0m\u001b[0;34m(\u001b[0m\u001b[0ms\u001b[0m\u001b[0;34m)\u001b[0m\u001b[0;34m:\u001b[0m\u001b[0;34m\u001b[0m\u001b[0;34m\u001b[0m\u001b[0m\n",
      "\u001b[0;32m~/miniconda3/lib/python3.7/json/decoder.py\u001b[0m in \u001b[0;36mraw_decode\u001b[0;34m(self, s, idx)\u001b[0m\n\u001b[1;32m    353\u001b[0m             \u001b[0mobj\u001b[0m\u001b[0;34m,\u001b[0m \u001b[0mend\u001b[0m \u001b[0;34m=\u001b[0m \u001b[0mself\u001b[0m\u001b[0;34m.\u001b[0m\u001b[0mscan_once\u001b[0m\u001b[0;34m(\u001b[0m\u001b[0ms\u001b[0m\u001b[0;34m,\u001b[0m \u001b[0midx\u001b[0m\u001b[0;34m)\u001b[0m\u001b[0;34m\u001b[0m\u001b[0;34m\u001b[0m\u001b[0m\n\u001b[1;32m    354\u001b[0m         \u001b[0;32mexcept\u001b[0m \u001b[0mStopIteration\u001b[0m \u001b[0;32mas\u001b[0m \u001b[0merr\u001b[0m\u001b[0;34m:\u001b[0m\u001b[0;34m\u001b[0m\u001b[0;34m\u001b[0m\u001b[0m\n\u001b[0;32m--> 355\u001b[0;31m             \u001b[0;32mraise\u001b[0m \u001b[0mJSONDecodeError\u001b[0m\u001b[0;34m(\u001b[0m\u001b[0;34m\"Expecting value\"\u001b[0m\u001b[0;34m,\u001b[0m \u001b[0ms\u001b[0m\u001b[0;34m,\u001b[0m \u001b[0merr\u001b[0m\u001b[0;34m.\u001b[0m\u001b[0mvalue\u001b[0m\u001b[0;34m)\u001b[0m \u001b[0;32mfrom\u001b[0m \u001b[0;32mNone\u001b[0m\u001b[0;34m\u001b[0m\u001b[0;34m\u001b[0m\u001b[0m\n\u001b[0m\u001b[1;32m    356\u001b[0m         \u001b[0;32mreturn\u001b[0m \u001b[0mobj\u001b[0m\u001b[0;34m,\u001b[0m \u001b[0mend\u001b[0m\u001b[0;34m\u001b[0m\u001b[0;34m\u001b[0m\u001b[0m\n",
      "\u001b[0;31mJSONDecodeError\u001b[0m: Expecting value: line 1 column 1 (char 0)"
     ]
    }
   ],
   "source": [
    "import json\n",
    "data = json.load(open('table.json'))\n",
    "\n",
    "df = pd.DataFrame(data[\"result\"])"
   ]
  }
 ],
 "metadata": {
  "kernelspec": {
   "display_name": "Python 3",
   "language": "python",
   "name": "python3"
  },
  "language_info": {
   "codemirror_mode": {
    "name": "ipython",
    "version": 3
   },
   "file_extension": ".py",
   "mimetype": "text/x-python",
   "name": "python",
   "nbconvert_exporter": "python",
   "pygments_lexer": "ipython3",
   "version": "3.7.4"
  }
 },
 "nbformat": 4,
 "nbformat_minor": 4
}
