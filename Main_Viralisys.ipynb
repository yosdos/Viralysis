{
 "cells": [
  {
   "cell_type": "code",
   "execution_count": 1,
   "metadata": {},
   "outputs": [
    {
     "name": "stdout",
     "output_type": "stream",
     "text": [
      "{\r\n",
      "    \"TableNames\": [\r\n",
      "        \"AllDataViralysis\", \r\n",
      "        \"NumberOfEnterance\", \r\n",
      "        \"viralysisTable1\"\r\n",
      "    ]\r\n",
      "}\r\n"
     ]
    }
   ],
   "source": [
    "!aws dynamodb list-tables"
   ]
  },
  {
   "cell_type": "code",
   "execution_count": 13,
   "metadata": {},
   "outputs": [],
   "source": [
    "import pandas as pd\n",
    "from datetime import datetime\n",
    "import boto3\n",
    "import json\n",
    "\n",
    "NameOFTable = 'NumberOfEnterance'\n",
    "dynamodb = boto3.resource('dynamodb')\n",
    "Feed_table = dynamodb.Table('viralysisTable1')\n",
    "Data_table = dynamodb.Table('AllDataViralysis')\n",
    "Enterance_Table = dynamodb.Table(NameOFTable)\n",
    "Feed_tableS = Feed_table.scan()\n",
    "Feed_tableS.get('Items')\n",
    "Pandas_Feed_table = pd.DataFrame.from_dict(Feed_tableS.get('Items'))"
   ]
  },
  {
   "cell_type": "code",
   "execution_count": 7,
   "metadata": {},
   "outputs": [],
   "source": [
    "json = boto3.resource('dynamodb').Table('NumberOfEnterance').scan()"
   ]
  },
  {
   "cell_type": "code",
   "execution_count": 14,
   "metadata": {
    "collapsed": true
   },
   "outputs": [
    {
     "data": {
      "text/html": [
       "<div>\n",
       "<style scoped>\n",
       "    .dataframe tbody tr th:only-of-type {\n",
       "        vertical-align: middle;\n",
       "    }\n",
       "\n",
       "    .dataframe tbody tr th {\n",
       "        vertical-align: top;\n",
       "    }\n",
       "\n",
       "    .dataframe thead th {\n",
       "        text-align: right;\n",
       "    }\n",
       "</style>\n",
       "<table border=\"1\" class=\"dataframe\">\n",
       "  <thead>\n",
       "    <tr style=\"text-align: right;\">\n",
       "      <th></th>\n",
       "      <th>body-json</th>\n",
       "      <th>idHttp</th>\n",
       "      <th>cookie</th>\n",
       "      <th>context</th>\n",
       "      <th>params</th>\n",
       "      <th>time</th>\n",
       "      <th>rnd6</th>\n",
       "      <th>Id</th>\n",
       "      <th>stage-variables</th>\n",
       "    </tr>\n",
       "  </thead>\n",
       "  <tbody>\n",
       "    <tr>\n",
       "      <th>0</th>\n",
       "      <td>{'ViralysisId': '3777ac95-9c63-4a15-85db-240e3...</td>\n",
       "      <td>f492416c-8ede-412d-8243-0622773dfe020UQru7</td>\n",
       "      <td>ViralysisId=f492416c-8ede-412d-8243-0622773dfe...</td>\n",
       "      <td>{'account-id': '', 'api-id': '1asdd2nwvf', 'ap...</td>\n",
       "      <td>{'path': {}, 'querystring': {}, 'header': {'ac...</td>\n",
       "      <td>1582809406.1259823</td>\n",
       "      <td>sQx1kk</td>\n",
       "      <td>3777ac95-9c63-4a15-85db-240e3b67c880</td>\n",
       "      <td>{}</td>\n",
       "    </tr>\n",
       "    <tr>\n",
       "      <th>1</th>\n",
       "      <td>{'ViralysisId': '', 'vai': '', 'href': 'http:/...</td>\n",
       "      <td>3e4df236-e3e9-4f48-bd68-3155c5611a057f5iBV</td>\n",
       "      <td>EMPTY</td>\n",
       "      <td>{'account-id': '', 'api-id': '1asdd2nwvf', 'ap...</td>\n",
       "      <td>{'path': {}, 'querystring': {}, 'header': {'ac...</td>\n",
       "      <td>1583009159.1358867</td>\n",
       "      <td>7f5iBV</td>\n",
       "      <td>3e4df236-e3e9-4f48-bd68-3155c5611a05</td>\n",
       "      <td>{}</td>\n",
       "    </tr>\n",
       "    <tr>\n",
       "      <th>2</th>\n",
       "      <td>{'ViralysisId': '9347fa83-ca26-4968-98cb-7f7fa...</td>\n",
       "      <td>9347fa83-ca26-4968-98cb-7f7fa0ef1f1107LPzF</td>\n",
       "      <td>ViralysisId=9347fa83-ca26-4968-98cb-7f7fa0ef1f...</td>\n",
       "      <td>{'account-id': '', 'api-id': '1asdd2nwvf', 'ap...</td>\n",
       "      <td>{'path': {}, 'querystring': {}, 'header': {'ac...</td>\n",
       "      <td>1582984545.4381123</td>\n",
       "      <td>zJnyvK</td>\n",
       "      <td>9347fa83-ca26-4968-98cb-7f7fa0ef1f11</td>\n",
       "      <td>{}</td>\n",
       "    </tr>\n",
       "    <tr>\n",
       "      <th>3</th>\n",
       "      <td>{'ViralysisId': '', 'vai': '', 'href': 'http:/...</td>\n",
       "      <td>9347fa83-ca26-4968-98cb-7f7fa0ef1f1107LPzF</td>\n",
       "      <td>EMPTY</td>\n",
       "      <td>{'account-id': '', 'api-id': '1asdd2nwvf', 'ap...</td>\n",
       "      <td>{'path': {}, 'querystring': {}, 'header': {'ac...</td>\n",
       "      <td>1582984510.9651675</td>\n",
       "      <td>07LPzF</td>\n",
       "      <td>9347fa83-ca26-4968-98cb-7f7fa0ef1f11</td>\n",
       "      <td>{}</td>\n",
       "    </tr>\n",
       "    <tr>\n",
       "      <th>4</th>\n",
       "      <td>{'ViralysisId': '7f949121-5293-4307-af79-dfec1...</td>\n",
       "      <td>0596b395-b64c-4fb9-9842-e4136ee4f74b</td>\n",
       "      <td>ViralysisId=0596b395-b64c-4fb9-9842-e4136ee4f74b</td>\n",
       "      <td>{'account-id': '', 'api-id': '1asdd2nwvf', 'ap...</td>\n",
       "      <td>{'path': {}, 'querystring': {}, 'header': {'ac...</td>\n",
       "      <td>1582815722.5215068</td>\n",
       "      <td>GESEQ9</td>\n",
       "      <td>7f949121-5293-4307-af79-dfec1ec8a389</td>\n",
       "      <td>{}</td>\n",
       "    </tr>\n",
       "    <tr>\n",
       "      <th>5</th>\n",
       "      <td>{'ViralysisId': '', 'vai': '', 'href': 'http:/...</td>\n",
       "      <td>c13cb7a0-3d99-4326-9acb-e6b89d1947efnbcjSh</td>\n",
       "      <td>EMPTY</td>\n",
       "      <td>{'account-id': '', 'api-id': '1asdd2nwvf', 'ap...</td>\n",
       "      <td>{'path': {}, 'querystring': {}, 'header': {'ac...</td>\n",
       "      <td>1582816655.2672853</td>\n",
       "      <td>nbcjSh</td>\n",
       "      <td>c13cb7a0-3d99-4326-9acb-e6b89d1947ef</td>\n",
       "      <td>{}</td>\n",
       "    </tr>\n",
       "    <tr>\n",
       "      <th>6</th>\n",
       "      <td>{'ViralysisId': '', 'vai': '', 'href': 'http:/...</td>\n",
       "      <td>8ca169ff-c28f-49af-b86b-cdc3758d0865MKSWZx</td>\n",
       "      <td>ViralysisId=8ca169ff-c28f-49af-b86b-cdc3758d08...</td>\n",
       "      <td>{'account-id': '', 'api-id': '1asdd2nwvf', 'ap...</td>\n",
       "      <td>{'path': {}, 'querystring': {}, 'header': {'ac...</td>\n",
       "      <td>1582989270.974419</td>\n",
       "      <td>TrSKXL</td>\n",
       "      <td>d6edec2d-d295-4cbd-acec-d64cd3840eae</td>\n",
       "      <td>{}</td>\n",
       "    </tr>\n",
       "    <tr>\n",
       "      <th>7</th>\n",
       "      <td>{'ViralysisId': '', 'vai': '', 'href': 'http:/...</td>\n",
       "      <td>8ca169ff-c28f-49af-b86b-cdc3758d0865MKSWZx</td>\n",
       "      <td>ViralysisId=8ca169ff-c28f-49af-b86b-cdc3758d08...</td>\n",
       "      <td>{'account-id': '', 'api-id': '1asdd2nwvf', 'ap...</td>\n",
       "      <td>{'path': {}, 'querystring': {}, 'header': {'ac...</td>\n",
       "      <td>1582989278.968776</td>\n",
       "      <td>Q9goPK</td>\n",
       "      <td>f6cb3d6f-660d-49d6-8e67-f9a1247601f8</td>\n",
       "      <td>{}</td>\n",
       "    </tr>\n",
       "    <tr>\n",
       "      <th>8</th>\n",
       "      <td>{'ViralysisId': '', 'vai': '', 'href': 'http:/...</td>\n",
       "      <td>8ca169ff-c28f-49af-b86b-cdc3758d0865MKSWZx</td>\n",
       "      <td>EMPTY</td>\n",
       "      <td>{'account-id': '', 'api-id': '1asdd2nwvf', 'ap...</td>\n",
       "      <td>{'path': {}, 'querystring': {}, 'header': {'ac...</td>\n",
       "      <td>1582989228.3156233</td>\n",
       "      <td>MKSWZx</td>\n",
       "      <td>8ca169ff-c28f-49af-b86b-cdc3758d0865</td>\n",
       "      <td>{}</td>\n",
       "    </tr>\n",
       "    <tr>\n",
       "      <th>9</th>\n",
       "      <td>{'ViralysisId': 'd6edec2d-d295-4cbd-acec-d64cd...</td>\n",
       "      <td>8ca169ff-c28f-49af-b86b-cdc3758d0865MKSWZx</td>\n",
       "      <td>ViralysisId=8ca169ff-c28f-49af-b86b-cdc3758d08...</td>\n",
       "      <td>{'account-id': '', 'api-id': '1asdd2nwvf', 'ap...</td>\n",
       "      <td>{'path': {}, 'querystring': {}, 'header': {'ac...</td>\n",
       "      <td>1582989338.2135289</td>\n",
       "      <td>loKRdy</td>\n",
       "      <td>d6edec2d-d295-4cbd-acec-d64cd3840eae</td>\n",
       "      <td>{}</td>\n",
       "    </tr>\n",
       "  </tbody>\n",
       "</table>\n",
       "</div>"
      ],
      "text/plain": [
       "                                           body-json  \\\n",
       "0  {'ViralysisId': '3777ac95-9c63-4a15-85db-240e3...   \n",
       "1  {'ViralysisId': '', 'vai': '', 'href': 'http:/...   \n",
       "2  {'ViralysisId': '9347fa83-ca26-4968-98cb-7f7fa...   \n",
       "3  {'ViralysisId': '', 'vai': '', 'href': 'http:/...   \n",
       "4  {'ViralysisId': '7f949121-5293-4307-af79-dfec1...   \n",
       "5  {'ViralysisId': '', 'vai': '', 'href': 'http:/...   \n",
       "6  {'ViralysisId': '', 'vai': '', 'href': 'http:/...   \n",
       "7  {'ViralysisId': '', 'vai': '', 'href': 'http:/...   \n",
       "8  {'ViralysisId': '', 'vai': '', 'href': 'http:/...   \n",
       "9  {'ViralysisId': 'd6edec2d-d295-4cbd-acec-d64cd...   \n",
       "\n",
       "                                       idHttp  \\\n",
       "0  f492416c-8ede-412d-8243-0622773dfe020UQru7   \n",
       "1  3e4df236-e3e9-4f48-bd68-3155c5611a057f5iBV   \n",
       "2  9347fa83-ca26-4968-98cb-7f7fa0ef1f1107LPzF   \n",
       "3  9347fa83-ca26-4968-98cb-7f7fa0ef1f1107LPzF   \n",
       "4        0596b395-b64c-4fb9-9842-e4136ee4f74b   \n",
       "5  c13cb7a0-3d99-4326-9acb-e6b89d1947efnbcjSh   \n",
       "6  8ca169ff-c28f-49af-b86b-cdc3758d0865MKSWZx   \n",
       "7  8ca169ff-c28f-49af-b86b-cdc3758d0865MKSWZx   \n",
       "8  8ca169ff-c28f-49af-b86b-cdc3758d0865MKSWZx   \n",
       "9  8ca169ff-c28f-49af-b86b-cdc3758d0865MKSWZx   \n",
       "\n",
       "                                              cookie  \\\n",
       "0  ViralysisId=f492416c-8ede-412d-8243-0622773dfe...   \n",
       "1                                              EMPTY   \n",
       "2  ViralysisId=9347fa83-ca26-4968-98cb-7f7fa0ef1f...   \n",
       "3                                              EMPTY   \n",
       "4   ViralysisId=0596b395-b64c-4fb9-9842-e4136ee4f74b   \n",
       "5                                              EMPTY   \n",
       "6  ViralysisId=8ca169ff-c28f-49af-b86b-cdc3758d08...   \n",
       "7  ViralysisId=8ca169ff-c28f-49af-b86b-cdc3758d08...   \n",
       "8                                              EMPTY   \n",
       "9  ViralysisId=8ca169ff-c28f-49af-b86b-cdc3758d08...   \n",
       "\n",
       "                                             context  \\\n",
       "0  {'account-id': '', 'api-id': '1asdd2nwvf', 'ap...   \n",
       "1  {'account-id': '', 'api-id': '1asdd2nwvf', 'ap...   \n",
       "2  {'account-id': '', 'api-id': '1asdd2nwvf', 'ap...   \n",
       "3  {'account-id': '', 'api-id': '1asdd2nwvf', 'ap...   \n",
       "4  {'account-id': '', 'api-id': '1asdd2nwvf', 'ap...   \n",
       "5  {'account-id': '', 'api-id': '1asdd2nwvf', 'ap...   \n",
       "6  {'account-id': '', 'api-id': '1asdd2nwvf', 'ap...   \n",
       "7  {'account-id': '', 'api-id': '1asdd2nwvf', 'ap...   \n",
       "8  {'account-id': '', 'api-id': '1asdd2nwvf', 'ap...   \n",
       "9  {'account-id': '', 'api-id': '1asdd2nwvf', 'ap...   \n",
       "\n",
       "                                              params                time  \\\n",
       "0  {'path': {}, 'querystring': {}, 'header': {'ac...  1582809406.1259823   \n",
       "1  {'path': {}, 'querystring': {}, 'header': {'ac...  1583009159.1358867   \n",
       "2  {'path': {}, 'querystring': {}, 'header': {'ac...  1582984545.4381123   \n",
       "3  {'path': {}, 'querystring': {}, 'header': {'ac...  1582984510.9651675   \n",
       "4  {'path': {}, 'querystring': {}, 'header': {'ac...  1582815722.5215068   \n",
       "5  {'path': {}, 'querystring': {}, 'header': {'ac...  1582816655.2672853   \n",
       "6  {'path': {}, 'querystring': {}, 'header': {'ac...   1582989270.974419   \n",
       "7  {'path': {}, 'querystring': {}, 'header': {'ac...   1582989278.968776   \n",
       "8  {'path': {}, 'querystring': {}, 'header': {'ac...  1582989228.3156233   \n",
       "9  {'path': {}, 'querystring': {}, 'header': {'ac...  1582989338.2135289   \n",
       "\n",
       "     rnd6                                    Id stage-variables  \n",
       "0  sQx1kk  3777ac95-9c63-4a15-85db-240e3b67c880              {}  \n",
       "1  7f5iBV  3e4df236-e3e9-4f48-bd68-3155c5611a05              {}  \n",
       "2  zJnyvK  9347fa83-ca26-4968-98cb-7f7fa0ef1f11              {}  \n",
       "3  07LPzF  9347fa83-ca26-4968-98cb-7f7fa0ef1f11              {}  \n",
       "4  GESEQ9  7f949121-5293-4307-af79-dfec1ec8a389              {}  \n",
       "5  nbcjSh  c13cb7a0-3d99-4326-9acb-e6b89d1947ef              {}  \n",
       "6  TrSKXL  d6edec2d-d295-4cbd-acec-d64cd3840eae              {}  \n",
       "7  Q9goPK  f6cb3d6f-660d-49d6-8e67-f9a1247601f8              {}  \n",
       "8  MKSWZx  8ca169ff-c28f-49af-b86b-cdc3758d0865              {}  \n",
       "9  loKRdy  d6edec2d-d295-4cbd-acec-d64cd3840eae              {}  "
      ]
     },
     "execution_count": 14,
     "metadata": {},
     "output_type": "execute_result"
    }
   ],
   "source": [
    "Pandas_Feed_table"
   ]
  },
  {
   "cell_type": "code",
   "execution_count": 52,
   "metadata": {},
   "outputs": [],
   "source": [
    "Pandas_Data_table =  pd.DataFrame.from_dict(Data_table.scan().get('Items'))"
   ]
  },
  {
   "cell_type": "code",
   "execution_count": 1,
   "metadata": {
    "collapsed": true
   },
   "outputs": [
    {
     "ename": "NameError",
     "evalue": "name 'Pandas_Data_table' is not defined",
     "output_type": "error",
     "traceback": [
      "\u001b[0;31m---------------------------------------------------------------------------\u001b[0m",
      "\u001b[0;31mNameError\u001b[0m                                 Traceback (most recent call last)",
      "\u001b[0;32m<ipython-input-1-ba06d5273d23>\u001b[0m in \u001b[0;36m<module>\u001b[0;34m\u001b[0m\n\u001b[0;32m----> 1\u001b[0;31m \u001b[0mPandas_Data_table\u001b[0m\u001b[0;34m\u001b[0m\u001b[0;34m\u001b[0m\u001b[0m\n\u001b[0m",
      "\u001b[0;31mNameError\u001b[0m: name 'Pandas_Data_table' is not defined"
     ]
    }
   ],
   "source": [
    "Pandas_Data_table"
   ]
  },
  {
   "cell_type": "code",
   "execution_count": 19,
   "metadata": {},
   "outputs": [],
   "source": [
    "Pandas_Feed_table['dt_object'] = [datetime.fromtimestamp(float(i)).strftime(\"%m/%d/%Y\") \n",
    "                                      for i in Pandas_Feed_table.time]"
   ]
  },
  {
   "cell_type": "code",
   "execution_count": 70,
   "metadata": {},
   "outputs": [],
   "source": [
    "Pandas_En_table = pd.DataFrame.from_dict(Enterance_Table.scan().get('Items'))"
   ]
  },
  {
   "cell_type": "code",
   "execution_count": 23,
   "metadata": {
    "scrolled": false
   },
   "outputs": [
    {
     "data": {
      "text/plain": [
       "\"{'ViralysisId': '116a843b-fea0-4670-b79e-a29c1be2b133', 'vai': '', 'href': 'http://bioinformatics-israel.com/', 'ViralysisClientId': 'YosDos'}\""
      ]
     },
     "execution_count": 23,
     "metadata": {},
     "output_type": "execute_result"
    }
   ],
   "source": [
    "Pandas_Feed_table['body-json'][0]"
   ]
  },
  {
   "cell_type": "code",
   "execution_count": 15,
   "metadata": {},
   "outputs": [],
   "source": [
    "Pandas_Feed_table['Client'] = [json.loads(s.replace(\"'\", \"\\\"\"))['ViralysisClientId'] \n",
    "                               for s in Pandas_Feed_table['body-json']]"
   ]
  },
  {
   "cell_type": "code",
   "execution_count": 16,
   "metadata": {
    "scrolled": true
   },
   "outputs": [
    {
     "data": {
      "text/html": [
       "<div>\n",
       "<style scoped>\n",
       "    .dataframe tbody tr th:only-of-type {\n",
       "        vertical-align: middle;\n",
       "    }\n",
       "\n",
       "    .dataframe tbody tr th {\n",
       "        vertical-align: top;\n",
       "    }\n",
       "\n",
       "    .dataframe thead th {\n",
       "        text-align: right;\n",
       "    }\n",
       "</style>\n",
       "<table border=\"1\" class=\"dataframe\">\n",
       "  <thead>\n",
       "    <tr style=\"text-align: right;\">\n",
       "      <th></th>\n",
       "      <th>body-json</th>\n",
       "      <th>idHttp</th>\n",
       "      <th>cookie</th>\n",
       "      <th>context</th>\n",
       "      <th>params</th>\n",
       "      <th>time</th>\n",
       "      <th>rnd6</th>\n",
       "      <th>Id</th>\n",
       "      <th>stage-variables</th>\n",
       "      <th>Client</th>\n",
       "    </tr>\n",
       "  </thead>\n",
       "  <tbody>\n",
       "    <tr>\n",
       "      <th>0</th>\n",
       "      <td>{'ViralysisId': '3777ac95-9c63-4a15-85db-240e3...</td>\n",
       "      <td>f492416c-8ede-412d-8243-0622773dfe020UQru7</td>\n",
       "      <td>ViralysisId=f492416c-8ede-412d-8243-0622773dfe...</td>\n",
       "      <td>{'account-id': '', 'api-id': '1asdd2nwvf', 'ap...</td>\n",
       "      <td>{'path': {}, 'querystring': {}, 'header': {'ac...</td>\n",
       "      <td>1582809406.1259823</td>\n",
       "      <td>sQx1kk</td>\n",
       "      <td>3777ac95-9c63-4a15-85db-240e3b67c880</td>\n",
       "      <td>{}</td>\n",
       "      <td>YosDos</td>\n",
       "    </tr>\n",
       "    <tr>\n",
       "      <th>1</th>\n",
       "      <td>{'ViralysisId': '', 'vai': '', 'href': 'http:/...</td>\n",
       "      <td>3e4df236-e3e9-4f48-bd68-3155c5611a057f5iBV</td>\n",
       "      <td>EMPTY</td>\n",
       "      <td>{'account-id': '', 'api-id': '1asdd2nwvf', 'ap...</td>\n",
       "      <td>{'path': {}, 'querystring': {}, 'header': {'ac...</td>\n",
       "      <td>1583009159.1358867</td>\n",
       "      <td>7f5iBV</td>\n",
       "      <td>3e4df236-e3e9-4f48-bd68-3155c5611a05</td>\n",
       "      <td>{}</td>\n",
       "      <td>YosDos</td>\n",
       "    </tr>\n",
       "    <tr>\n",
       "      <th>2</th>\n",
       "      <td>{'ViralysisId': '9347fa83-ca26-4968-98cb-7f7fa...</td>\n",
       "      <td>9347fa83-ca26-4968-98cb-7f7fa0ef1f1107LPzF</td>\n",
       "      <td>ViralysisId=9347fa83-ca26-4968-98cb-7f7fa0ef1f...</td>\n",
       "      <td>{'account-id': '', 'api-id': '1asdd2nwvf', 'ap...</td>\n",
       "      <td>{'path': {}, 'querystring': {}, 'header': {'ac...</td>\n",
       "      <td>1582984545.4381123</td>\n",
       "      <td>zJnyvK</td>\n",
       "      <td>9347fa83-ca26-4968-98cb-7f7fa0ef1f11</td>\n",
       "      <td>{}</td>\n",
       "      <td>YosDos</td>\n",
       "    </tr>\n",
       "    <tr>\n",
       "      <th>3</th>\n",
       "      <td>{'ViralysisId': '', 'vai': '', 'href': 'http:/...</td>\n",
       "      <td>9347fa83-ca26-4968-98cb-7f7fa0ef1f1107LPzF</td>\n",
       "      <td>EMPTY</td>\n",
       "      <td>{'account-id': '', 'api-id': '1asdd2nwvf', 'ap...</td>\n",
       "      <td>{'path': {}, 'querystring': {}, 'header': {'ac...</td>\n",
       "      <td>1582984510.9651675</td>\n",
       "      <td>07LPzF</td>\n",
       "      <td>9347fa83-ca26-4968-98cb-7f7fa0ef1f11</td>\n",
       "      <td>{}</td>\n",
       "      <td>YosDos</td>\n",
       "    </tr>\n",
       "    <tr>\n",
       "      <th>4</th>\n",
       "      <td>{'ViralysisId': '7f949121-5293-4307-af79-dfec1...</td>\n",
       "      <td>0596b395-b64c-4fb9-9842-e4136ee4f74b</td>\n",
       "      <td>ViralysisId=0596b395-b64c-4fb9-9842-e4136ee4f74b</td>\n",
       "      <td>{'account-id': '', 'api-id': '1asdd2nwvf', 'ap...</td>\n",
       "      <td>{'path': {}, 'querystring': {}, 'header': {'ac...</td>\n",
       "      <td>1582815722.5215068</td>\n",
       "      <td>GESEQ9</td>\n",
       "      <td>7f949121-5293-4307-af79-dfec1ec8a389</td>\n",
       "      <td>{}</td>\n",
       "      <td>YosDos</td>\n",
       "    </tr>\n",
       "    <tr>\n",
       "      <th>5</th>\n",
       "      <td>{'ViralysisId': '', 'vai': '', 'href': 'http:/...</td>\n",
       "      <td>c13cb7a0-3d99-4326-9acb-e6b89d1947efnbcjSh</td>\n",
       "      <td>EMPTY</td>\n",
       "      <td>{'account-id': '', 'api-id': '1asdd2nwvf', 'ap...</td>\n",
       "      <td>{'path': {}, 'querystring': {}, 'header': {'ac...</td>\n",
       "      <td>1582816655.2672853</td>\n",
       "      <td>nbcjSh</td>\n",
       "      <td>c13cb7a0-3d99-4326-9acb-e6b89d1947ef</td>\n",
       "      <td>{}</td>\n",
       "      <td>YosDos</td>\n",
       "    </tr>\n",
       "    <tr>\n",
       "      <th>6</th>\n",
       "      <td>{'ViralysisId': '', 'vai': '', 'href': 'http:/...</td>\n",
       "      <td>8ca169ff-c28f-49af-b86b-cdc3758d0865MKSWZx</td>\n",
       "      <td>ViralysisId=8ca169ff-c28f-49af-b86b-cdc3758d08...</td>\n",
       "      <td>{'account-id': '', 'api-id': '1asdd2nwvf', 'ap...</td>\n",
       "      <td>{'path': {}, 'querystring': {}, 'header': {'ac...</td>\n",
       "      <td>1582989270.974419</td>\n",
       "      <td>TrSKXL</td>\n",
       "      <td>d6edec2d-d295-4cbd-acec-d64cd3840eae</td>\n",
       "      <td>{}</td>\n",
       "      <td>YosDos</td>\n",
       "    </tr>\n",
       "    <tr>\n",
       "      <th>7</th>\n",
       "      <td>{'ViralysisId': '', 'vai': '', 'href': 'http:/...</td>\n",
       "      <td>8ca169ff-c28f-49af-b86b-cdc3758d0865MKSWZx</td>\n",
       "      <td>ViralysisId=8ca169ff-c28f-49af-b86b-cdc3758d08...</td>\n",
       "      <td>{'account-id': '', 'api-id': '1asdd2nwvf', 'ap...</td>\n",
       "      <td>{'path': {}, 'querystring': {}, 'header': {'ac...</td>\n",
       "      <td>1582989278.968776</td>\n",
       "      <td>Q9goPK</td>\n",
       "      <td>f6cb3d6f-660d-49d6-8e67-f9a1247601f8</td>\n",
       "      <td>{}</td>\n",
       "      <td>YosDos</td>\n",
       "    </tr>\n",
       "    <tr>\n",
       "      <th>8</th>\n",
       "      <td>{'ViralysisId': '', 'vai': '', 'href': 'http:/...</td>\n",
       "      <td>8ca169ff-c28f-49af-b86b-cdc3758d0865MKSWZx</td>\n",
       "      <td>EMPTY</td>\n",
       "      <td>{'account-id': '', 'api-id': '1asdd2nwvf', 'ap...</td>\n",
       "      <td>{'path': {}, 'querystring': {}, 'header': {'ac...</td>\n",
       "      <td>1582989228.3156233</td>\n",
       "      <td>MKSWZx</td>\n",
       "      <td>8ca169ff-c28f-49af-b86b-cdc3758d0865</td>\n",
       "      <td>{}</td>\n",
       "      <td>YosDos</td>\n",
       "    </tr>\n",
       "    <tr>\n",
       "      <th>9</th>\n",
       "      <td>{'ViralysisId': 'd6edec2d-d295-4cbd-acec-d64cd...</td>\n",
       "      <td>8ca169ff-c28f-49af-b86b-cdc3758d0865MKSWZx</td>\n",
       "      <td>ViralysisId=8ca169ff-c28f-49af-b86b-cdc3758d08...</td>\n",
       "      <td>{'account-id': '', 'api-id': '1asdd2nwvf', 'ap...</td>\n",
       "      <td>{'path': {}, 'querystring': {}, 'header': {'ac...</td>\n",
       "      <td>1582989338.2135289</td>\n",
       "      <td>loKRdy</td>\n",
       "      <td>d6edec2d-d295-4cbd-acec-d64cd3840eae</td>\n",
       "      <td>{}</td>\n",
       "      <td>YosDos</td>\n",
       "    </tr>\n",
       "  </tbody>\n",
       "</table>\n",
       "</div>"
      ],
      "text/plain": [
       "                                           body-json  \\\n",
       "0  {'ViralysisId': '3777ac95-9c63-4a15-85db-240e3...   \n",
       "1  {'ViralysisId': '', 'vai': '', 'href': 'http:/...   \n",
       "2  {'ViralysisId': '9347fa83-ca26-4968-98cb-7f7fa...   \n",
       "3  {'ViralysisId': '', 'vai': '', 'href': 'http:/...   \n",
       "4  {'ViralysisId': '7f949121-5293-4307-af79-dfec1...   \n",
       "5  {'ViralysisId': '', 'vai': '', 'href': 'http:/...   \n",
       "6  {'ViralysisId': '', 'vai': '', 'href': 'http:/...   \n",
       "7  {'ViralysisId': '', 'vai': '', 'href': 'http:/...   \n",
       "8  {'ViralysisId': '', 'vai': '', 'href': 'http:/...   \n",
       "9  {'ViralysisId': 'd6edec2d-d295-4cbd-acec-d64cd...   \n",
       "\n",
       "                                       idHttp  \\\n",
       "0  f492416c-8ede-412d-8243-0622773dfe020UQru7   \n",
       "1  3e4df236-e3e9-4f48-bd68-3155c5611a057f5iBV   \n",
       "2  9347fa83-ca26-4968-98cb-7f7fa0ef1f1107LPzF   \n",
       "3  9347fa83-ca26-4968-98cb-7f7fa0ef1f1107LPzF   \n",
       "4        0596b395-b64c-4fb9-9842-e4136ee4f74b   \n",
       "5  c13cb7a0-3d99-4326-9acb-e6b89d1947efnbcjSh   \n",
       "6  8ca169ff-c28f-49af-b86b-cdc3758d0865MKSWZx   \n",
       "7  8ca169ff-c28f-49af-b86b-cdc3758d0865MKSWZx   \n",
       "8  8ca169ff-c28f-49af-b86b-cdc3758d0865MKSWZx   \n",
       "9  8ca169ff-c28f-49af-b86b-cdc3758d0865MKSWZx   \n",
       "\n",
       "                                              cookie  \\\n",
       "0  ViralysisId=f492416c-8ede-412d-8243-0622773dfe...   \n",
       "1                                              EMPTY   \n",
       "2  ViralysisId=9347fa83-ca26-4968-98cb-7f7fa0ef1f...   \n",
       "3                                              EMPTY   \n",
       "4   ViralysisId=0596b395-b64c-4fb9-9842-e4136ee4f74b   \n",
       "5                                              EMPTY   \n",
       "6  ViralysisId=8ca169ff-c28f-49af-b86b-cdc3758d08...   \n",
       "7  ViralysisId=8ca169ff-c28f-49af-b86b-cdc3758d08...   \n",
       "8                                              EMPTY   \n",
       "9  ViralysisId=8ca169ff-c28f-49af-b86b-cdc3758d08...   \n",
       "\n",
       "                                             context  \\\n",
       "0  {'account-id': '', 'api-id': '1asdd2nwvf', 'ap...   \n",
       "1  {'account-id': '', 'api-id': '1asdd2nwvf', 'ap...   \n",
       "2  {'account-id': '', 'api-id': '1asdd2nwvf', 'ap...   \n",
       "3  {'account-id': '', 'api-id': '1asdd2nwvf', 'ap...   \n",
       "4  {'account-id': '', 'api-id': '1asdd2nwvf', 'ap...   \n",
       "5  {'account-id': '', 'api-id': '1asdd2nwvf', 'ap...   \n",
       "6  {'account-id': '', 'api-id': '1asdd2nwvf', 'ap...   \n",
       "7  {'account-id': '', 'api-id': '1asdd2nwvf', 'ap...   \n",
       "8  {'account-id': '', 'api-id': '1asdd2nwvf', 'ap...   \n",
       "9  {'account-id': '', 'api-id': '1asdd2nwvf', 'ap...   \n",
       "\n",
       "                                              params                time  \\\n",
       "0  {'path': {}, 'querystring': {}, 'header': {'ac...  1582809406.1259823   \n",
       "1  {'path': {}, 'querystring': {}, 'header': {'ac...  1583009159.1358867   \n",
       "2  {'path': {}, 'querystring': {}, 'header': {'ac...  1582984545.4381123   \n",
       "3  {'path': {}, 'querystring': {}, 'header': {'ac...  1582984510.9651675   \n",
       "4  {'path': {}, 'querystring': {}, 'header': {'ac...  1582815722.5215068   \n",
       "5  {'path': {}, 'querystring': {}, 'header': {'ac...  1582816655.2672853   \n",
       "6  {'path': {}, 'querystring': {}, 'header': {'ac...   1582989270.974419   \n",
       "7  {'path': {}, 'querystring': {}, 'header': {'ac...   1582989278.968776   \n",
       "8  {'path': {}, 'querystring': {}, 'header': {'ac...  1582989228.3156233   \n",
       "9  {'path': {}, 'querystring': {}, 'header': {'ac...  1582989338.2135289   \n",
       "\n",
       "     rnd6                                    Id stage-variables  Client  \n",
       "0  sQx1kk  3777ac95-9c63-4a15-85db-240e3b67c880              {}  YosDos  \n",
       "1  7f5iBV  3e4df236-e3e9-4f48-bd68-3155c5611a05              {}  YosDos  \n",
       "2  zJnyvK  9347fa83-ca26-4968-98cb-7f7fa0ef1f11              {}  YosDos  \n",
       "3  07LPzF  9347fa83-ca26-4968-98cb-7f7fa0ef1f11              {}  YosDos  \n",
       "4  GESEQ9  7f949121-5293-4307-af79-dfec1ec8a389              {}  YosDos  \n",
       "5  nbcjSh  c13cb7a0-3d99-4326-9acb-e6b89d1947ef              {}  YosDos  \n",
       "6  TrSKXL  d6edec2d-d295-4cbd-acec-d64cd3840eae              {}  YosDos  \n",
       "7  Q9goPK  f6cb3d6f-660d-49d6-8e67-f9a1247601f8              {}  YosDos  \n",
       "8  MKSWZx  8ca169ff-c28f-49af-b86b-cdc3758d0865              {}  YosDos  \n",
       "9  loKRdy  d6edec2d-d295-4cbd-acec-d64cd3840eae              {}  YosDos  "
      ]
     },
     "execution_count": 16,
     "metadata": {},
     "output_type": "execute_result"
    }
   ],
   "source": [
    "Pandas_Feed_table"
   ]
  },
  {
   "cell_type": "code",
   "execution_count": 135,
   "metadata": {},
   "outputs": [
    {
     "name": "stdout",
     "output_type": "stream",
     "text": [
      "Overwriting Add_Items_And_Delete_Items.py\n"
     ]
    }
   ],
   "source": [
    "# %%writefile Add_Items_And_Delete_Items.py\n",
    "\n",
    "def Add_Items_And_Delete_Items():\n",
    "    import boto3\n",
    "    import pandas as pd\n",
    "    \n",
    "    dynamodb = boto3.resource('dynamodb')\n",
    "    Feed_table = dynamodb.Table('viralysisTable1')\n",
    "    Data_table = dynamodb.Table('AllDataViralysis')\n",
    "\n",
    "    Feed_tableS = Feed_table.scan()\n",
    "    Feed_tableS.get('Items')\n",
    "    Pandas_Feed_table = pd.DataFrame.from_dict(Feed_tableS.get('Items'))\n",
    "\n",
    "    #     Get the new feed and put them in the new table\n",
    "    print('Adding items from feed table (viralysisTable1) to DataTable (AllDataViralysis)... ')\n",
    "    print('Deleting all ''old'' items from feed table (viralysisTable1)')\n",
    "    for each in Feed_tableS.get('Items'):\n",
    "        Data_table.put_item(Item=each)\n",
    "        \n",
    "        Feed_table.delete_item(Key={'time': each['time']})\n",
    "        \n",
    "    print('Done deleting')\n",
    "    \n",
    "    return Pandas_Feed_table\n"
   ]
  },
  {
   "cell_type": "code",
   "execution_count": 58,
   "metadata": {
    "scrolled": true
   },
   "outputs": [],
   "source": [
    "# %%writefile EnterancePerDay.py\n",
    "\n",
    "def EnterancePerDay(Pandas_Feed_table):\n",
    "    import pandas as pd\n",
    "    from datetime import datetime\n",
    "    import boto3\n",
    "    print('Analizing...')\n",
    "    \n",
    "    '''\n",
    "    Update the table with the number of \n",
    "    Enterance per day\n",
    "    '''\n",
    "    NameOFTable = 'NumberOfEnterance'\n",
    "    dynamodb = boto3.resource('dynamodb')\n",
    "    Enterance_Table = dynamodb.Table(NameOFTable)\n",
    "    \n",
    "    # PANDAS\n",
    "    Pandas_Feed_table['dt_object'] = [datetime.fromtimestamp(float(i)).strftime(\"%m/%d/%Y\") \n",
    "                                      for i in Pandas_Feed_table.time]\n",
    "    \n",
    "#     Pandas_Feed_table['Client'] = [json.loads(s.replace(\"'\", \"\\\"\"))['ViralysisClientId'] \n",
    "# #                                for s in Pandas_Feed_table['body-json']]\n",
    "\n",
    "    groupbyTime = Pandas_Feed_table.groupby('dt_object').count().loc[:, ['body-json']]\n",
    "    groupbyTime.reset_index(inplace=True)\n",
    "    groupbyTime.columns=['Date','Num of enterance']\n",
    "    #-------#\n",
    "    groupbyTimeDict = groupbyTime.T.to_dict().values()\n",
    "    print('Add data to {} table'.format(NameOFTable))\n",
    "    #Update the Feature Table:\n",
    "    for event in groupbyTimeDict:\n",
    "        Enterance_Table.update_item(Key={'Date':event['Date']},\n",
    "         AttributeUpdates={\n",
    "            'Num of enterance': {\n",
    "                'Value': event['Num of enterance'],\n",
    "                'Action':'ADD'}})\n"
   ]
  },
  {
   "cell_type": "code",
   "execution_count": 78,
   "metadata": {
    "collapsed": true
   },
   "outputs": [
    {
     "name": "stdout",
     "output_type": "stream",
     "text": [
      "Analizing...\n"
     ]
    },
    {
     "ename": "AttributeError",
     "evalue": "'DataFrame' object has no attribute 'time'",
     "output_type": "error",
     "traceback": [
      "\u001b[0;31m---------------------------------------------------------------------------\u001b[0m",
      "\u001b[0;31mAttributeError\u001b[0m                            Traceback (most recent call last)",
      "\u001b[0;32m<ipython-input-78-d8b2094aad34>\u001b[0m in \u001b[0;36m<module>\u001b[0;34m\u001b[0m\n\u001b[0;32m----> 1\u001b[0;31m \u001b[0mEnterancePerDay\u001b[0m\u001b[0;34m(\u001b[0m\u001b[0mPandas_Feed_table\u001b[0m\u001b[0;34m)\u001b[0m\u001b[0;34m\u001b[0m\u001b[0;34m\u001b[0m\u001b[0m\n\u001b[0m",
      "\u001b[0;32m~/Viralysis/EnterancePerDay.py\u001b[0m in \u001b[0;36mEnterancePerDay\u001b[0;34m(Pandas_Feed_table)\u001b[0m\n\u001b[1;32m     14\u001b[0m     \u001b[0mEnterance_Table\u001b[0m \u001b[0;34m=\u001b[0m \u001b[0mdynamodb\u001b[0m\u001b[0;34m.\u001b[0m\u001b[0mTable\u001b[0m\u001b[0;34m(\u001b[0m\u001b[0mNameOFTable\u001b[0m\u001b[0;34m)\u001b[0m\u001b[0;34m\u001b[0m\u001b[0;34m\u001b[0m\u001b[0m\n\u001b[1;32m     15\u001b[0m \u001b[0;34m\u001b[0m\u001b[0m\n\u001b[0;32m---> 16\u001b[0;31m     \u001b[0;31m# PANDAS\u001b[0m\u001b[0;34m\u001b[0m\u001b[0;34m\u001b[0m\u001b[0;34m\u001b[0m\u001b[0m\n\u001b[0m\u001b[1;32m     17\u001b[0m     Pandas_Feed_table['dt_object'] = [datetime.fromtimestamp(float(i)).strftime(\"%m/%d/%Y\") \n\u001b[1;32m     18\u001b[0m                                       for i in Pandas_Feed_table.time]\n",
      "\u001b[0;32m~/miniconda3/lib/python3.7/site-packages/pandas/core/generic.py\u001b[0m in \u001b[0;36m__getattr__\u001b[0;34m(self, name)\u001b[0m\n\u001b[1;32m   5177\u001b[0m             \u001b[0;32mif\u001b[0m \u001b[0mself\u001b[0m\u001b[0;34m.\u001b[0m\u001b[0m_info_axis\u001b[0m\u001b[0;34m.\u001b[0m\u001b[0m_can_hold_identifiers_and_holds_name\u001b[0m\u001b[0;34m(\u001b[0m\u001b[0mname\u001b[0m\u001b[0;34m)\u001b[0m\u001b[0;34m:\u001b[0m\u001b[0;34m\u001b[0m\u001b[0;34m\u001b[0m\u001b[0m\n\u001b[1;32m   5178\u001b[0m                 \u001b[0;32mreturn\u001b[0m \u001b[0mself\u001b[0m\u001b[0;34m[\u001b[0m\u001b[0mname\u001b[0m\u001b[0;34m]\u001b[0m\u001b[0;34m\u001b[0m\u001b[0;34m\u001b[0m\u001b[0m\n\u001b[0;32m-> 5179\u001b[0;31m             \u001b[0;32mreturn\u001b[0m \u001b[0mobject\u001b[0m\u001b[0;34m.\u001b[0m\u001b[0m__getattribute__\u001b[0m\u001b[0;34m(\u001b[0m\u001b[0mself\u001b[0m\u001b[0;34m,\u001b[0m \u001b[0mname\u001b[0m\u001b[0;34m)\u001b[0m\u001b[0;34m\u001b[0m\u001b[0;34m\u001b[0m\u001b[0m\n\u001b[0m\u001b[1;32m   5180\u001b[0m \u001b[0;34m\u001b[0m\u001b[0m\n\u001b[1;32m   5181\u001b[0m     \u001b[0;32mdef\u001b[0m \u001b[0m__setattr__\u001b[0m\u001b[0;34m(\u001b[0m\u001b[0mself\u001b[0m\u001b[0;34m,\u001b[0m \u001b[0mname\u001b[0m\u001b[0;34m,\u001b[0m \u001b[0mvalue\u001b[0m\u001b[0;34m)\u001b[0m\u001b[0;34m:\u001b[0m\u001b[0;34m\u001b[0m\u001b[0;34m\u001b[0m\u001b[0m\n",
      "\u001b[0;31mAttributeError\u001b[0m: 'DataFrame' object has no attribute 'time'"
     ]
    }
   ],
   "source": [
    "EnterancePerDay(Pandas_Feed_table)"
   ]
  },
  {
   "cell_type": "code",
   "execution_count": 136,
   "metadata": {
    "scrolled": false
   },
   "outputs": [
    {
     "name": "stdout",
     "output_type": "stream",
     "text": [
      "Adding items from feed table (viralysisTable1) to DataTable (AllDataViralysis)... \n",
      "Deleting all old items from feed table (viralysisTable1)\n",
      "Done deleting\n"
     ]
    }
   ],
   "source": [
    "Pandas_Feed_table = Add_Items_And_Delete_Items()"
   ]
  },
  {
   "cell_type": "code",
   "execution_count": 137,
   "metadata": {},
   "outputs": [
    {
     "data": {
      "text/html": [
       "<div>\n",
       "<style scoped>\n",
       "    .dataframe tbody tr th:only-of-type {\n",
       "        vertical-align: middle;\n",
       "    }\n",
       "\n",
       "    .dataframe tbody tr th {\n",
       "        vertical-align: top;\n",
       "    }\n",
       "\n",
       "    .dataframe thead th {\n",
       "        text-align: right;\n",
       "    }\n",
       "</style>\n",
       "<table border=\"1\" class=\"dataframe\">\n",
       "  <thead>\n",
       "    <tr style=\"text-align: right;\">\n",
       "      <th></th>\n",
       "      <th>body-json</th>\n",
       "      <th>idHttp</th>\n",
       "      <th>cookie</th>\n",
       "      <th>context</th>\n",
       "      <th>params</th>\n",
       "      <th>time</th>\n",
       "      <th>rnd6</th>\n",
       "      <th>Id</th>\n",
       "      <th>stage-variables</th>\n",
       "    </tr>\n",
       "  </thead>\n",
       "  <tbody>\n",
       "    <tr>\n",
       "      <th>0</th>\n",
       "      <td>{'ViralysisId': '3777ac95-9c63-4a15-85db-240e3...</td>\n",
       "      <td>f492416c-8ede-412d-8243-0622773dfe020UQru7</td>\n",
       "      <td>ViralysisId=f492416c-8ede-412d-8243-0622773dfe...</td>\n",
       "      <td>{'account-id': '', 'api-id': '1asdd2nwvf', 'ap...</td>\n",
       "      <td>{'path': {}, 'querystring': {}, 'header': {'ac...</td>\n",
       "      <td>1583015792.6060457</td>\n",
       "      <td>8g3y2g</td>\n",
       "      <td>3777ac95-9c63-4a15-85db-240e3b67c880</td>\n",
       "      <td>{}</td>\n",
       "    </tr>\n",
       "  </tbody>\n",
       "</table>\n",
       "</div>"
      ],
      "text/plain": [
       "                                           body-json  \\\n",
       "0  {'ViralysisId': '3777ac95-9c63-4a15-85db-240e3...   \n",
       "\n",
       "                                       idHttp  \\\n",
       "0  f492416c-8ede-412d-8243-0622773dfe020UQru7   \n",
       "\n",
       "                                              cookie  \\\n",
       "0  ViralysisId=f492416c-8ede-412d-8243-0622773dfe...   \n",
       "\n",
       "                                             context  \\\n",
       "0  {'account-id': '', 'api-id': '1asdd2nwvf', 'ap...   \n",
       "\n",
       "                                              params                time  \\\n",
       "0  {'path': {}, 'querystring': {}, 'header': {'ac...  1583015792.6060457   \n",
       "\n",
       "     rnd6                                    Id stage-variables  \n",
       "0  8g3y2g  3777ac95-9c63-4a15-85db-240e3b67c880              {}  "
      ]
     },
     "execution_count": 137,
     "metadata": {},
     "output_type": "execute_result"
    }
   ],
   "source": [
    "Pandas_Feed_table"
   ]
  },
  {
   "cell_type": "code",
   "execution_count": 138,
   "metadata": {},
   "outputs": [
    {
     "name": "stdout",
     "output_type": "stream",
     "text": [
      "Analizing...\n",
      "Add data to NumberOfEnterance table\n"
     ]
    }
   ],
   "source": [
    "EnterancePerDay(Pandas_Feed_table)"
   ]
  },
  {
   "cell_type": "markdown",
   "metadata": {},
   "source": [
    "## The Running Functions"
   ]
  },
  {
   "cell_type": "code",
   "execution_count": 4,
   "metadata": {},
   "outputs": [
    {
     "name": "stdout",
     "output_type": "stream",
     "text": [
      "Overwriting Main.py\n"
     ]
    }
   ],
   "source": [
    "%%writefile Main.py\n",
    "def Main():\n",
    "     \n",
    "    import pandas as pd\n",
    "    from datetime import datetime\n",
    "    import boto3\n",
    "\n",
    "    from Add_Items_And_Delete_Items import Add_Items_And_Delete_Items\n",
    "\n",
    "    from EnterancePerDay import EnterancePerDay \n",
    "\n",
    "\n",
    "    Pandas_Feed_table = Add_Items_And_Delete_Items()\n",
    "\n",
    "    EnterancePerDay(Pandas_Feed_table) #Update the enterance table\n",
    "\n",
    "    print('Done')\n",
    "\n",
    "Main()"
   ]
  },
  {
   "cell_type": "code",
   "execution_count": 121,
   "metadata": {},
   "outputs": [],
   "source": [
    "Pandas_Feed_table"
   ]
  },
  {
   "cell_type": "code",
   "execution_count": 120,
   "metadata": {},
   "outputs": [
    {
     "name": "stdout",
     "output_type": "stream",
     "text": [
      "Adding items from feed table (viralysisTable1) to DataTable (AllDataViralysis)... \n",
      "Deleting all old items from feed table (viralysisTable1)\n",
      "Done deleting\n"
     ]
    }
   ],
   "source": [
    "Pandas_Feed_table = Add_Items_And_Delete_Items()"
   ]
  },
  {
   "cell_type": "code",
   "execution_count": 118,
   "metadata": {},
   "outputs": [
    {
     "name": "stdout",
     "output_type": "stream",
     "text": [
      "Analizing...\n"
     ]
    },
    {
     "ename": "AttributeError",
     "evalue": "'NoneType' object has no attribute 'time'",
     "output_type": "error",
     "traceback": [
      "\u001b[0;31m---------------------------------------------------------------------------\u001b[0m",
      "\u001b[0;31mAttributeError\u001b[0m                            Traceback (most recent call last)",
      "\u001b[0;32m<ipython-input-118-d8b2094aad34>\u001b[0m in \u001b[0;36m<module>\u001b[0;34m\u001b[0m\n\u001b[0;32m----> 1\u001b[0;31m \u001b[0mEnterancePerDay\u001b[0m\u001b[0;34m(\u001b[0m\u001b[0mPandas_Feed_table\u001b[0m\u001b[0;34m)\u001b[0m\u001b[0;34m\u001b[0m\u001b[0;34m\u001b[0m\u001b[0m\n\u001b[0m",
      "\u001b[0;32m~/Viralysis/EnterancePerDay.py\u001b[0m in \u001b[0;36mEnterancePerDay\u001b[0;34m(Pandas_Feed_table)\u001b[0m\n\u001b[1;32m     14\u001b[0m     \u001b[0mEnterance_Table\u001b[0m \u001b[0;34m=\u001b[0m \u001b[0mdynamodb\u001b[0m\u001b[0;34m.\u001b[0m\u001b[0mTable\u001b[0m\u001b[0;34m(\u001b[0m\u001b[0mNameOFTable\u001b[0m\u001b[0;34m)\u001b[0m\u001b[0;34m\u001b[0m\u001b[0;34m\u001b[0m\u001b[0m\n\u001b[1;32m     15\u001b[0m \u001b[0;34m\u001b[0m\u001b[0m\n\u001b[0;32m---> 16\u001b[0;31m     \u001b[0;31m# PANDAS\u001b[0m\u001b[0;34m\u001b[0m\u001b[0;34m\u001b[0m\u001b[0;34m\u001b[0m\u001b[0m\n\u001b[0m\u001b[1;32m     17\u001b[0m     Pandas_Feed_table['dt_object'] = [datetime.fromtimestamp(float(i)).strftime(\"%m/%d/%Y\") \n\u001b[1;32m     18\u001b[0m                                       for i in Pandas_Feed_table.time]\n",
      "\u001b[0;31mAttributeError\u001b[0m: 'NoneType' object has no attribute 'time'"
     ]
    }
   ],
   "source": [
    "EnterancePerDay(Pandas_Feed_table)"
   ]
  },
  {
   "cell_type": "code",
   "execution_count": 84,
   "metadata": {},
   "outputs": [
    {
     "name": "stdout",
     "output_type": "stream",
     "text": [
      "Adding items from feed table (viralysisTable1) to DataTable (AllDataViralysis)... \n",
      "Deleting all old items from feed table (viralysisTable1)\n",
      "Done deleting\n"
     ]
    }
   ],
   "source": [
    "import pandas as pd\n",
    "from datetime import datetime\n",
    "import boto3\n",
    "\n",
    "from Add_Items_And_Delete_Items import Add_Items_And_Delete_Items\n",
    "\n",
    "from EnterancePerDay import EnterancePerDay \n",
    "\n",
    "Pandas_Feed_table = Add_Items_And_Delete_Items()"
   ]
  },
  {
   "cell_type": "code",
   "execution_count": 87,
   "metadata": {},
   "outputs": [
    {
     "name": "stdout",
     "output_type": "stream",
     "text": [
      "Adding items from feed table (viralysisTable1) to DataTable (AllDataViralysis)... \n",
      "Deleting all old items from feed table (viralysisTable1)\n"
     ]
    }
   ],
   "source": [
    "Add_Items_And_Delete_Items()"
   ]
  },
  {
   "cell_type": "code",
   "execution_count": 4,
   "metadata": {},
   "outputs": [],
   "source": [
    "# s3 = boto3.resource('s3')\n",
    "# my_bucket = s3.Bucket('viralanalysis')"
   ]
  },
  {
   "cell_type": "markdown",
   "metadata": {},
   "source": [
    "## Analyse the new feed"
   ]
  },
  {
   "cell_type": "code",
   "execution_count": 43,
   "metadata": {},
   "outputs": [
    {
     "data": {
      "text/plain": [
       "[\"{'ViralysisId': '116a843b-fea0-4670-b79e-a29c1be2b133', 'vai': '', 'href': 'http://bioinformatics-israel.com/', 'ViralysisClientId': 'YosDos'}\",\n",
       " \"{'ViralysisId': '116a843b-fea0-4670-b79e-a29c1be2b133', 'vai': 'z2DYar', 'href': 'http://bioinformatics-israel.com/#&vai=z2DYar', 'ViralysisClientId': 'YosDos'}\"]"
      ]
     },
     "execution_count": 43,
     "metadata": {},
     "output_type": "execute_result"
    }
   ],
   "source": [
    "[i for i in Pandas_Feed_table['body-json'] if {'ViralysisClientId':'YosDos'}]"
   ]
  },
  {
   "cell_type": "code",
   "execution_count": 46,
   "metadata": {
    "scrolled": true
   },
   "outputs": [
    {
     "data": {
      "text/html": [
       "<div>\n",
       "<style scoped>\n",
       "    .dataframe tbody tr th:only-of-type {\n",
       "        vertical-align: middle;\n",
       "    }\n",
       "\n",
       "    .dataframe tbody tr th {\n",
       "        vertical-align: top;\n",
       "    }\n",
       "\n",
       "    .dataframe thead th {\n",
       "        text-align: right;\n",
       "    }\n",
       "</style>\n",
       "<table border=\"1\" class=\"dataframe\">\n",
       "  <thead>\n",
       "    <tr style=\"text-align: right;\">\n",
       "      <th></th>\n",
       "      <th>body-json</th>\n",
       "      <th>idHttp</th>\n",
       "      <th>cookie</th>\n",
       "      <th>context</th>\n",
       "      <th>params</th>\n",
       "      <th>time</th>\n",
       "      <th>rnd6</th>\n",
       "      <th>Id</th>\n",
       "      <th>stage-variables</th>\n",
       "      <th>dt_object</th>\n",
       "    </tr>\n",
       "  </thead>\n",
       "  <tbody>\n",
       "  </tbody>\n",
       "</table>\n",
       "</div>"
      ],
      "text/plain": [
       "Empty DataFrame\n",
       "Columns: [body-json, idHttp, cookie, context, params, time, rnd6, Id, stage-variables, dt_object]\n",
       "Index: []"
      ]
     },
     "execution_count": 46,
     "metadata": {},
     "output_type": "execute_result"
    }
   ],
   "source": [
    "Pandas_Feed_table.loc[Pandas_Feed_table['body-json'].]"
   ]
  },
  {
   "cell_type": "code",
   "execution_count": 41,
   "metadata": {},
   "outputs": [
    {
     "data": {
      "text/plain": [
       "0    {'ViralysisId': '116a843b-fea0-4670-b79e-a29c1...\n",
       "1    {'ViralysisId': '116a843b-fea0-4670-b79e-a29c1...\n",
       "Name: body-json, dtype: object"
      ]
     },
     "execution_count": 41,
     "metadata": {},
     "output_type": "execute_result"
    }
   ],
   "source": [
    "Pandas_Feed_table['body-json'].loc()"
   ]
  },
  {
   "cell_type": "code",
   "execution_count": 52,
   "metadata": {},
   "outputs": [],
   "source": [
    "data = str('the table have: ' + str(PandasTable.shape[0])+ ' rows to analyse')"
   ]
  },
  {
   "cell_type": "code",
   "execution_count": 169,
   "metadata": {},
   "outputs": [],
   "source": [
    "data = groupbyTime.to_html()"
   ]
  },
  {
   "cell_type": "code",
   "execution_count": 170,
   "metadata": {},
   "outputs": [
    {
     "data": {
      "text/plain": [
       "s3.Object(bucket_name='www.myexamplewebsite.com', key='index.html')"
      ]
     },
     "execution_count": 170,
     "metadata": {},
     "output_type": "execute_result"
    }
   ],
   "source": [
    "my_bucket.put_object(Key='index.html', Body=data, ContentType='text/html')"
   ]
  },
  {
   "cell_type": "code",
   "execution_count": 83,
   "metadata": {
    "scrolled": true
   },
   "outputs": [
    {
     "data": {
      "text/plain": [
       "'313'"
      ]
     },
     "execution_count": 83,
     "metadata": {},
     "output_type": "execute_result"
    }
   ],
   "source": [
    "str(Pandas_Feed_table.shape[0])"
   ]
  },
  {
   "cell_type": "code",
   "execution_count": 103,
   "metadata": {},
   "outputs": [
    {
     "data": {
      "text/plain": [
       "313"
      ]
     },
     "execution_count": 103,
     "metadata": {},
     "output_type": "execute_result"
    }
   ],
   "source": [
    "Data_table.item_count"
   ]
  },
  {
   "cell_type": "code",
   "execution_count": 95,
   "metadata": {
    "collapsed": true
   },
   "outputs": [
    {
     "ename": "TypeError",
     "evalue": "an integer is required (got type str)",
     "output_type": "error",
     "traceback": [
      "\u001b[0;31m---------------------------------------------------------------------------\u001b[0m",
      "\u001b[0;31mTypeError\u001b[0m                                 Traceback (most recent call last)",
      "\u001b[0;32m<ipython-input-95-c3a2665b2aec>\u001b[0m in \u001b[0;36m<module>\u001b[0;34m\u001b[0m\n\u001b[0;32m----> 1\u001b[0;31m \u001b[0;34m[\u001b[0m\u001b[0mdatetime\u001b[0m\u001b[0;34m.\u001b[0m\u001b[0mfromtimestamp\u001b[0m\u001b[0;34m(\u001b[0m\u001b[0mi\u001b[0m\u001b[0;34m)\u001b[0m \u001b[0;32mfor\u001b[0m \u001b[0mi\u001b[0m \u001b[0;32min\u001b[0m \u001b[0mPandasTable\u001b[0m\u001b[0;34m.\u001b[0m\u001b[0mtime\u001b[0m\u001b[0;34m]\u001b[0m\u001b[0;34m\u001b[0m\u001b[0;34m\u001b[0m\u001b[0m\n\u001b[0m",
      "\u001b[0;32m<ipython-input-95-c3a2665b2aec>\u001b[0m in \u001b[0;36m<listcomp>\u001b[0;34m(.0)\u001b[0m\n\u001b[0;32m----> 1\u001b[0;31m \u001b[0;34m[\u001b[0m\u001b[0mdatetime\u001b[0m\u001b[0;34m.\u001b[0m\u001b[0mfromtimestamp\u001b[0m\u001b[0;34m(\u001b[0m\u001b[0mi\u001b[0m\u001b[0;34m)\u001b[0m \u001b[0;32mfor\u001b[0m \u001b[0mi\u001b[0m \u001b[0;32min\u001b[0m \u001b[0mPandasTable\u001b[0m\u001b[0;34m.\u001b[0m\u001b[0mtime\u001b[0m\u001b[0;34m]\u001b[0m\u001b[0;34m\u001b[0m\u001b[0;34m\u001b[0m\u001b[0m\n\u001b[0m",
      "\u001b[0;31mTypeError\u001b[0m: an integer is required (got type str)"
     ]
    }
   ],
   "source": [
    "[datetime.fromtimestamp(i) for i in PandasTable.time]"
   ]
  },
  {
   "cell_type": "code",
   "execution_count": 114,
   "metadata": {
    "collapsed": true
   },
   "outputs": [
    {
     "name": "stdout",
     "output_type": "stream",
     "text": [
      "01/31/2020\n",
      "01/19/2020\n",
      "01/11/2020\n",
      "01/08/2020\n",
      "01/15/2020\n",
      "01/23/2020\n",
      "01/26/2020\n",
      "01/23/2020\n",
      "02/12/2020\n",
      "01/23/2020\n",
      "02/09/2020\n",
      "01/18/2020\n",
      "01/11/2020\n",
      "02/08/2020\n",
      "02/09/2020\n",
      "01/23/2020\n",
      "01/23/2020\n",
      "02/13/2020\n",
      "01/23/2020\n",
      "02/06/2020\n",
      "01/21/2020\n",
      "01/23/2020\n",
      "01/15/2020\n",
      "02/06/2020\n",
      "01/19/2020\n",
      "01/09/2020\n",
      "01/23/2020\n",
      "01/23/2020\n",
      "01/23/2020\n",
      "01/23/2020\n",
      "01/31/2020\n",
      "02/14/2020\n",
      "02/06/2020\n",
      "01/11/2020\n",
      "01/28/2020\n",
      "01/18/2020\n",
      "01/08/2020\n",
      "01/21/2020\n",
      "01/29/2020\n",
      "01/25/2020\n",
      "01/11/2020\n",
      "01/31/2020\n",
      "02/05/2020\n",
      "02/13/2020\n",
      "02/13/2020\n",
      "02/04/2020\n",
      "02/13/2020\n",
      "01/23/2020\n",
      "01/16/2020\n",
      "01/18/2020\n",
      "01/11/2020\n",
      "01/23/2020\n",
      "02/11/2020\n",
      "01/15/2020\n",
      "01/22/2020\n",
      "01/22/2020\n",
      "01/15/2020\n",
      "01/15/2020\n",
      "01/08/2020\n",
      "01/20/2020\n",
      "02/10/2020\n",
      "01/15/2020\n",
      "01/14/2020\n",
      "01/10/2020\n",
      "01/08/2020\n",
      "02/03/2020\n",
      "01/19/2020\n",
      "01/23/2020\n",
      "02/07/2020\n",
      "01/19/2020\n",
      "01/23/2020\n",
      "02/05/2020\n",
      "02/09/2020\n",
      "01/11/2020\n",
      "01/22/2020\n",
      "01/23/2020\n",
      "02/03/2020\n",
      "02/09/2020\n",
      "02/12/2020\n",
      "01/23/2020\n",
      "01/23/2020\n",
      "02/13/2020\n",
      "01/11/2020\n",
      "01/22/2020\n",
      "01/23/2020\n",
      "01/20/2020\n",
      "01/25/2020\n",
      "01/23/2020\n",
      "01/23/2020\n",
      "02/09/2020\n",
      "02/14/2020\n",
      "01/22/2020\n",
      "01/18/2020\n",
      "01/23/2020\n",
      "01/15/2020\n",
      "01/12/2020\n",
      "01/15/2020\n",
      "01/30/2020\n",
      "02/09/2020\n",
      "02/14/2020\n",
      "02/09/2020\n",
      "02/09/2020\n",
      "01/22/2020\n",
      "02/09/2020\n",
      "01/21/2020\n",
      "02/09/2020\n",
      "01/11/2020\n",
      "01/23/2020\n",
      "01/11/2020\n",
      "02/05/2020\n",
      "02/09/2020\n",
      "01/09/2020\n",
      "01/09/2020\n",
      "01/17/2020\n",
      "01/23/2020\n",
      "01/14/2020\n",
      "01/23/2020\n",
      "02/11/2020\n",
      "02/14/2020\n",
      "01/23/2020\n",
      "01/23/2020\n",
      "01/27/2020\n",
      "01/27/2020\n",
      "02/14/2020\n",
      "01/15/2020\n",
      "02/13/2020\n",
      "02/08/2020\n",
      "01/23/2020\n",
      "01/11/2020\n",
      "02/08/2020\n",
      "01/22/2020\n",
      "01/12/2020\n",
      "01/23/2020\n",
      "01/29/2020\n",
      "01/18/2020\n",
      "01/30/2020\n",
      "02/09/2020\n",
      "01/23/2020\n",
      "01/28/2020\n",
      "02/08/2020\n",
      "02/07/2020\n",
      "01/11/2020\n",
      "01/23/2020\n",
      "02/05/2020\n",
      "01/23/2020\n",
      "01/11/2020\n",
      "01/23/2020\n",
      "02/09/2020\n",
      "01/11/2020\n",
      "01/16/2020\n",
      "01/10/2020\n",
      "02/13/2020\n",
      "01/27/2020\n",
      "01/15/2020\n",
      "01/26/2020\n",
      "01/11/2020\n",
      "01/23/2020\n",
      "01/18/2020\n",
      "02/05/2020\n",
      "02/09/2020\n",
      "01/08/2020\n",
      "01/17/2020\n",
      "01/23/2020\n",
      "02/08/2020\n",
      "01/23/2020\n",
      "02/14/2020\n",
      "01/25/2020\n",
      "01/25/2020\n",
      "02/09/2020\n",
      "02/14/2020\n",
      "02/15/2020\n",
      "01/27/2020\n",
      "01/15/2020\n",
      "01/11/2020\n",
      "01/23/2020\n",
      "01/08/2020\n",
      "01/23/2020\n",
      "01/22/2020\n",
      "01/08/2020\n",
      "01/13/2020\n",
      "01/22/2020\n",
      "01/20/2020\n",
      "01/23/2020\n",
      "01/23/2020\n",
      "02/10/2020\n",
      "01/22/2020\n",
      "01/30/2020\n",
      "01/18/2020\n",
      "01/08/2020\n",
      "02/13/2020\n",
      "01/23/2020\n",
      "01/12/2020\n",
      "02/15/2020\n",
      "02/09/2020\n",
      "01/23/2020\n",
      "01/21/2020\n",
      "01/14/2020\n",
      "01/15/2020\n",
      "01/18/2020\n",
      "01/30/2020\n",
      "01/21/2020\n",
      "02/12/2020\n",
      "01/24/2020\n",
      "01/23/2020\n",
      "01/11/2020\n",
      "01/23/2020\n",
      "01/21/2020\n",
      "01/13/2020\n",
      "01/23/2020\n",
      "01/11/2020\n",
      "01/08/2020\n",
      "01/23/2020\n",
      "02/13/2020\n",
      "01/19/2020\n",
      "01/11/2020\n",
      "01/23/2020\n",
      "02/12/2020\n",
      "02/10/2020\n",
      "01/18/2020\n",
      "01/23/2020\n",
      "01/23/2020\n",
      "01/15/2020\n",
      "02/11/2020\n",
      "01/11/2020\n",
      "01/19/2020\n",
      "01/10/2020\n",
      "01/23/2020\n",
      "01/22/2020\n",
      "01/11/2020\n",
      "01/11/2020\n",
      "01/23/2020\n",
      "01/15/2020\n",
      "01/18/2020\n",
      "01/23/2020\n",
      "01/10/2020\n",
      "01/28/2020\n",
      "01/15/2020\n",
      "01/15/2020\n",
      "01/15/2020\n",
      "01/12/2020\n",
      "02/03/2020\n",
      "01/23/2020\n",
      "01/18/2020\n",
      "02/10/2020\n",
      "01/08/2020\n",
      "01/17/2020\n",
      "01/28/2020\n",
      "02/12/2020\n",
      "01/23/2020\n",
      "02/09/2020\n",
      "02/07/2020\n",
      "02/05/2020\n",
      "01/09/2020\n",
      "01/23/2020\n",
      "01/15/2020\n",
      "01/23/2020\n",
      "01/28/2020\n",
      "02/05/2020\n",
      "01/08/2020\n",
      "01/23/2020\n",
      "02/02/2020\n",
      "01/16/2020\n",
      "01/31/2020\n",
      "01/23/2020\n",
      "01/23/2020\n",
      "01/15/2020\n",
      "01/08/2020\n",
      "01/15/2020\n",
      "01/10/2020\n",
      "02/14/2020\n",
      "01/11/2020\n"
     ]
    }
   ],
   "source": [
    "for i in PandasTable.time:\n",
    "    print(datetime.fromtimestamp(float(i)).strftime(\"%m/%d/%Y\"))"
   ]
  },
  {
   "cell_type": "code",
   "execution_count": 92,
   "metadata": {
    "collapsed": true
   },
   "outputs": [
    {
     "ename": "JSONDecodeError",
     "evalue": "Expecting value: line 1 column 1 (char 0)",
     "output_type": "error",
     "traceback": [
      "\u001b[0;31m---------------------------------------------------------------------------\u001b[0m",
      "\u001b[0;31mJSONDecodeError\u001b[0m                           Traceback (most recent call last)",
      "\u001b[0;32m<ipython-input-92-efcc162e4478>\u001b[0m in \u001b[0;36m<module>\u001b[0;34m\u001b[0m\n\u001b[1;32m      1\u001b[0m \u001b[0;32mimport\u001b[0m \u001b[0mjson\u001b[0m\u001b[0;34m\u001b[0m\u001b[0;34m\u001b[0m\u001b[0m\n\u001b[0;32m----> 2\u001b[0;31m \u001b[0mdata\u001b[0m \u001b[0;34m=\u001b[0m \u001b[0mjson\u001b[0m\u001b[0;34m.\u001b[0m\u001b[0mload\u001b[0m\u001b[0;34m(\u001b[0m\u001b[0mopen\u001b[0m\u001b[0;34m(\u001b[0m\u001b[0;34m'table.json'\u001b[0m\u001b[0;34m)\u001b[0m\u001b[0;34m)\u001b[0m\u001b[0;34m\u001b[0m\u001b[0;34m\u001b[0m\u001b[0m\n\u001b[0m\u001b[1;32m      3\u001b[0m \u001b[0;34m\u001b[0m\u001b[0m\n\u001b[1;32m      4\u001b[0m \u001b[0mdf\u001b[0m \u001b[0;34m=\u001b[0m \u001b[0mpd\u001b[0m\u001b[0;34m.\u001b[0m\u001b[0mDataFrame\u001b[0m\u001b[0;34m(\u001b[0m\u001b[0mdata\u001b[0m\u001b[0;34m[\u001b[0m\u001b[0;34m\"result\"\u001b[0m\u001b[0;34m]\u001b[0m\u001b[0;34m)\u001b[0m\u001b[0;34m\u001b[0m\u001b[0;34m\u001b[0m\u001b[0m\n",
      "\u001b[0;32m~/miniconda3/lib/python3.7/json/__init__.py\u001b[0m in \u001b[0;36mload\u001b[0;34m(fp, cls, object_hook, parse_float, parse_int, parse_constant, object_pairs_hook, **kw)\u001b[0m\n\u001b[1;32m    294\u001b[0m         \u001b[0mcls\u001b[0m\u001b[0;34m=\u001b[0m\u001b[0mcls\u001b[0m\u001b[0;34m,\u001b[0m \u001b[0mobject_hook\u001b[0m\u001b[0;34m=\u001b[0m\u001b[0mobject_hook\u001b[0m\u001b[0;34m,\u001b[0m\u001b[0;34m\u001b[0m\u001b[0;34m\u001b[0m\u001b[0m\n\u001b[1;32m    295\u001b[0m         \u001b[0mparse_float\u001b[0m\u001b[0;34m=\u001b[0m\u001b[0mparse_float\u001b[0m\u001b[0;34m,\u001b[0m \u001b[0mparse_int\u001b[0m\u001b[0;34m=\u001b[0m\u001b[0mparse_int\u001b[0m\u001b[0;34m,\u001b[0m\u001b[0;34m\u001b[0m\u001b[0;34m\u001b[0m\u001b[0m\n\u001b[0;32m--> 296\u001b[0;31m         parse_constant=parse_constant, object_pairs_hook=object_pairs_hook, **kw)\n\u001b[0m\u001b[1;32m    297\u001b[0m \u001b[0;34m\u001b[0m\u001b[0m\n\u001b[1;32m    298\u001b[0m \u001b[0;34m\u001b[0m\u001b[0m\n",
      "\u001b[0;32m~/miniconda3/lib/python3.7/json/__init__.py\u001b[0m in \u001b[0;36mloads\u001b[0;34m(s, encoding, cls, object_hook, parse_float, parse_int, parse_constant, object_pairs_hook, **kw)\u001b[0m\n\u001b[1;32m    346\u001b[0m             \u001b[0mparse_int\u001b[0m \u001b[0;32mis\u001b[0m \u001b[0;32mNone\u001b[0m \u001b[0;32mand\u001b[0m \u001b[0mparse_float\u001b[0m \u001b[0;32mis\u001b[0m \u001b[0;32mNone\u001b[0m \u001b[0;32mand\u001b[0m\u001b[0;34m\u001b[0m\u001b[0;34m\u001b[0m\u001b[0m\n\u001b[1;32m    347\u001b[0m             parse_constant is None and object_pairs_hook is None and not kw):\n\u001b[0;32m--> 348\u001b[0;31m         \u001b[0;32mreturn\u001b[0m \u001b[0m_default_decoder\u001b[0m\u001b[0;34m.\u001b[0m\u001b[0mdecode\u001b[0m\u001b[0;34m(\u001b[0m\u001b[0ms\u001b[0m\u001b[0;34m)\u001b[0m\u001b[0;34m\u001b[0m\u001b[0;34m\u001b[0m\u001b[0m\n\u001b[0m\u001b[1;32m    349\u001b[0m     \u001b[0;32mif\u001b[0m \u001b[0mcls\u001b[0m \u001b[0;32mis\u001b[0m \u001b[0;32mNone\u001b[0m\u001b[0;34m:\u001b[0m\u001b[0;34m\u001b[0m\u001b[0;34m\u001b[0m\u001b[0m\n\u001b[1;32m    350\u001b[0m         \u001b[0mcls\u001b[0m \u001b[0;34m=\u001b[0m \u001b[0mJSONDecoder\u001b[0m\u001b[0;34m\u001b[0m\u001b[0;34m\u001b[0m\u001b[0m\n",
      "\u001b[0;32m~/miniconda3/lib/python3.7/json/decoder.py\u001b[0m in \u001b[0;36mdecode\u001b[0;34m(self, s, _w)\u001b[0m\n\u001b[1;32m    335\u001b[0m \u001b[0;34m\u001b[0m\u001b[0m\n\u001b[1;32m    336\u001b[0m         \"\"\"\n\u001b[0;32m--> 337\u001b[0;31m         \u001b[0mobj\u001b[0m\u001b[0;34m,\u001b[0m \u001b[0mend\u001b[0m \u001b[0;34m=\u001b[0m \u001b[0mself\u001b[0m\u001b[0;34m.\u001b[0m\u001b[0mraw_decode\u001b[0m\u001b[0;34m(\u001b[0m\u001b[0ms\u001b[0m\u001b[0;34m,\u001b[0m \u001b[0midx\u001b[0m\u001b[0;34m=\u001b[0m\u001b[0m_w\u001b[0m\u001b[0;34m(\u001b[0m\u001b[0ms\u001b[0m\u001b[0;34m,\u001b[0m \u001b[0;36m0\u001b[0m\u001b[0;34m)\u001b[0m\u001b[0;34m.\u001b[0m\u001b[0mend\u001b[0m\u001b[0;34m(\u001b[0m\u001b[0;34m)\u001b[0m\u001b[0;34m)\u001b[0m\u001b[0;34m\u001b[0m\u001b[0;34m\u001b[0m\u001b[0m\n\u001b[0m\u001b[1;32m    338\u001b[0m         \u001b[0mend\u001b[0m \u001b[0;34m=\u001b[0m \u001b[0m_w\u001b[0m\u001b[0;34m(\u001b[0m\u001b[0ms\u001b[0m\u001b[0;34m,\u001b[0m \u001b[0mend\u001b[0m\u001b[0;34m)\u001b[0m\u001b[0;34m.\u001b[0m\u001b[0mend\u001b[0m\u001b[0;34m(\u001b[0m\u001b[0;34m)\u001b[0m\u001b[0;34m\u001b[0m\u001b[0;34m\u001b[0m\u001b[0m\n\u001b[1;32m    339\u001b[0m         \u001b[0;32mif\u001b[0m \u001b[0mend\u001b[0m \u001b[0;34m!=\u001b[0m \u001b[0mlen\u001b[0m\u001b[0;34m(\u001b[0m\u001b[0ms\u001b[0m\u001b[0;34m)\u001b[0m\u001b[0;34m:\u001b[0m\u001b[0;34m\u001b[0m\u001b[0;34m\u001b[0m\u001b[0m\n",
      "\u001b[0;32m~/miniconda3/lib/python3.7/json/decoder.py\u001b[0m in \u001b[0;36mraw_decode\u001b[0;34m(self, s, idx)\u001b[0m\n\u001b[1;32m    353\u001b[0m             \u001b[0mobj\u001b[0m\u001b[0;34m,\u001b[0m \u001b[0mend\u001b[0m \u001b[0;34m=\u001b[0m \u001b[0mself\u001b[0m\u001b[0;34m.\u001b[0m\u001b[0mscan_once\u001b[0m\u001b[0;34m(\u001b[0m\u001b[0ms\u001b[0m\u001b[0;34m,\u001b[0m \u001b[0midx\u001b[0m\u001b[0;34m)\u001b[0m\u001b[0;34m\u001b[0m\u001b[0;34m\u001b[0m\u001b[0m\n\u001b[1;32m    354\u001b[0m         \u001b[0;32mexcept\u001b[0m \u001b[0mStopIteration\u001b[0m \u001b[0;32mas\u001b[0m \u001b[0merr\u001b[0m\u001b[0;34m:\u001b[0m\u001b[0;34m\u001b[0m\u001b[0;34m\u001b[0m\u001b[0m\n\u001b[0;32m--> 355\u001b[0;31m             \u001b[0;32mraise\u001b[0m \u001b[0mJSONDecodeError\u001b[0m\u001b[0;34m(\u001b[0m\u001b[0;34m\"Expecting value\"\u001b[0m\u001b[0;34m,\u001b[0m \u001b[0ms\u001b[0m\u001b[0;34m,\u001b[0m \u001b[0merr\u001b[0m\u001b[0;34m.\u001b[0m\u001b[0mvalue\u001b[0m\u001b[0;34m)\u001b[0m \u001b[0;32mfrom\u001b[0m \u001b[0;32mNone\u001b[0m\u001b[0;34m\u001b[0m\u001b[0;34m\u001b[0m\u001b[0m\n\u001b[0m\u001b[1;32m    356\u001b[0m         \u001b[0;32mreturn\u001b[0m \u001b[0mobj\u001b[0m\u001b[0;34m,\u001b[0m \u001b[0mend\u001b[0m\u001b[0;34m\u001b[0m\u001b[0;34m\u001b[0m\u001b[0m\n",
      "\u001b[0;31mJSONDecodeError\u001b[0m: Expecting value: line 1 column 1 (char 0)"
     ]
    }
   ],
   "source": [
    "import json\n",
    "data = json.load(open('table.json'))\n",
    "\n",
    "df = pd.DataFrame(data[\"result\"])"
   ]
  }
 ],
 "metadata": {
  "kernelspec": {
   "display_name": "Python 3",
   "language": "python",
   "name": "python3"
  },
  "language_info": {
   "codemirror_mode": {
    "name": "ipython",
    "version": 3
   },
   "file_extension": ".py",
   "mimetype": "text/x-python",
   "name": "python",
   "nbconvert_exporter": "python",
   "pygments_lexer": "ipython3",
   "version": "3.7.4"
  }
 },
 "nbformat": 4,
 "nbformat_minor": 4
}
