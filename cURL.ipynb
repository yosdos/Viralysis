{
 "cells": [
  {
   "cell_type": "code",
   "execution_count": 6,
   "metadata": {},
   "outputs": [
    {
     "name": "stdout",
     "output_type": "stream",
     "text": [
      "Note: Unnecessary use of -X or --request, POST is already inferred.\n",
      "*   Trying 18.235.184.149...\n",
      "* TCP_NODELAY set\n",
      "* Connected to 1asdd2nwvf.execute-api.us-east-1.amazonaws.com (18.235.184.149) port 443 (#0)\n",
      "* ALPN, offering h2\n",
      "* ALPN, offering http/1.1\n",
      "* successfully set certificate verify locations:\n",
      "*   CAfile: /etc/ssl/certs/ca-certificates.crt\n",
      "  CApath: /etc/ssl/certs\n",
      "* TLSv1.3 (OUT), TLS handshake, Client hello (1):\n",
      "* TLSv1.3 (IN), TLS handshake, Server hello (2):\n",
      "* TLSv1.2 (IN), TLS handshake, Certificate (11):\n",
      "* TLSv1.2 (IN), TLS handshake, Server key exchange (12):\n",
      "* TLSv1.2 (IN), TLS handshake, Server finished (14):\n",
      "* TLSv1.2 (OUT), TLS handshake, Client key exchange (16):\n",
      "* TLSv1.2 (OUT), TLS change cipher, Client hello (1):\n",
      "* TLSv1.2 (OUT), TLS handshake, Finished (20):\n",
      "* TLSv1.2 (IN), TLS handshake, Finished (20):\n",
      "* SSL connection using TLSv1.2 / ECDHE-RSA-AES128-GCM-SHA256\n",
      "* ALPN, server accepted to use h2\n",
      "* Server certificate:\n",
      "*  subject: CN=*.execute-api.us-east-1.amazonaws.com\n",
      "*  start date: Sep 17 00:00:00 2019 GMT\n",
      "*  expire date: Oct 17 12:00:00 2020 GMT\n",
      "*  subjectAltName: host \"1asdd2nwvf.execute-api.us-east-1.amazonaws.com\" matched cert's \"*.execute-api.us-east-1.amazonaws.com\"\n",
      "*  issuer: C=US; O=Amazon; OU=Server CA 1B; CN=Amazon\n",
      "*  SSL certificate verify ok.\n",
      "* Using HTTP2, server supports multi-use\n",
      "* Connection state changed (HTTP/2 confirmed)\n",
      "* Copying HTTP/2 data in stream buffer to connection buffer after upgrade: len=0\n",
      "* Using Stream ID: 1 (easy handle 0x55b38c005580)\n",
      "> POST /CommunityAndViralityAnalysis/services HTTP/2\n",
      "> Host: 1asdd2nwvf.execute-api.us-east-1.amazonaws.com\n",
      "> User-Agent: curl/7.58.0\n",
      "> Accept: */*\n",
      "> Content-Length: 21\n",
      "> Content-Type: application/x-www-form-urlencoded\n",
      "> \n",
      "* Connection state changed (MAX_CONCURRENT_STREAMS updated)!\n",
      "* We are completely uploaded and fine\n",
      "< HTTP/2 200 \n",
      "< date: Sun, 01 Mar 2020 13:34:47 GMT\n",
      "< content-type: application/json\n",
      "< content-length: 19\n",
      "< x-amzn-requestid: a1a6fb9b-ab65-431c-9585-4ccc9804502a\n",
      "< x-amz-apigw-id: Itn-oGe5IAMFmvg=\n",
      "< x-amzn-trace-id: Root=1-5e5bb9f7-836c2684d62cdc5aef26339a;Sampled=0\n",
      "< \n",
      "* Connection #0 to host 1asdd2nwvf.execute-api.us-east-1.amazonaws.com left intact\n",
      "{\"time\": \"evening\"}"
     ]
    }
   ],
   "source": []
  },
  {
   "cell_type": "code",
   "execution_count": null,
   "metadata": {},
   "outputs": [],
   "source": []
  }
 ],
 "metadata": {
  "kernelspec": {
   "display_name": "Python 3",
   "language": "python",
   "name": "python3"
  },
  "language_info": {
   "codemirror_mode": {
    "name": "ipython",
    "version": 3
   },
   "file_extension": ".py",
   "mimetype": "text/x-python",
   "name": "python",
   "nbconvert_exporter": "python",
   "pygments_lexer": "ipython3",
   "version": "3.7.4"
  }
 },
 "nbformat": 4,
 "nbformat_minor": 4
}
